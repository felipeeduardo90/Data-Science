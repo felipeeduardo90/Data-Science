{
  "nbformat": 4,
  "nbformat_minor": 0,
  "metadata": {
    "colab": {
      "name": "COVID19-JULHO.ipynb",
      "provenance": [],
      "collapsed_sections": [],
      "toc_visible": true,
      "authorship_tag": "ABX9TyOMvoMHO2v0e964mBNQcyqV",
      "include_colab_link": true
    },
    "kernelspec": {
      "name": "python3",
      "display_name": "Python 3"
    }
  },
  "cells": [
    {
      "cell_type": "markdown",
      "metadata": {
        "id": "view-in-github",
        "colab_type": "text"
      },
      "source": [
        "<a href=\"https://colab.research.google.com/github/felipeeduardo90/Data-Science/blob/master/COVID19.ipynb\" target=\"_parent\"><img src=\"https://colab.research.google.com/assets/colab-badge.svg\" alt=\"Open In Colab\"/></a>"
      ]
    },
    {
      "cell_type": "markdown",
      "metadata": {
        "id": "6o__trRAoskJ",
        "colab_type": "text"
      },
      "source": [
        "![](https://raw.githubusercontent.com/felipeeduardo90/Data-Science/master/datatemplate2.png)\n",
        "\n",
        "\n",
        "[Github](https://github.com/felipeeduardo90)\n",
        "[Linkedin](https://www.linkedin.com/in/felipe-eduardo-franco-b3a05b186/)\n",
        "\n",
        "---\n",
        "\n",
        "\n",
        "\n",
        "\n"
      ]
    },
    {
      "cell_type": "markdown",
      "metadata": {
        "id": "dBLM1PldrKSj",
        "colab_type": "text"
      },
      "source": [
        "# Panorama do COVID-19 no Brasil\n",
        "\n",
        "Este projeto abordará uma análise do panorama do COVID-19 no Brasil e no Mundo. A pandemia dessa doença contagiosa mudou a rotina das pessoas ao redor do globo, provocando períodos extensos de reclusão para evitar sua disseminação, o que causou grande impacto na economia mundial e exigiu medidas drásticas dos líderes de Estado e da população para administrar essa situação . Mas o dado mais triste fica por conta das milhões de pessoas que foram infectadas com a doença e das centenas de milhares que vieram a óbito deivo as complicações acarretedas por ela.\n",
        "\n",
        "![](https://raw.githubusercontent.com/felipeeduardo90/template_portfolio/master/733.jpg)\n",
        "\n",
        "[image rights](https://br.freepik.com/fotos-vetores-gratis/fundo)\n",
        "\n",
        "\n"
      ]
    },
    {
      "cell_type": "markdown",
      "metadata": {
        "id": "zBywuHLQsiVc",
        "colab_type": "text"
      },
      "source": [
        "## O que é COVID-19\n",
        "\n",
        "A **COVID-19**, segundo o [Ministério da Saúde](https://coronavirus.saude.gov.br/sobre-a-doenca), é uma doença causada pelo coronavírus SARS-CoV-2, que apresenta um quadro clínico que varia de infecções assintomáticas a quadros respiratórios graves. De acordo com a Organização Mundial de Saúde (OMS), a maioria dos pacientes com COVID-19 (cerca de 80%) podem ser assintomáticos e cerca de 20% dos casos podem requerer atendimento hospitalar por apresentarem dificuldade respiratória e desses casos aproximadamente 5% podem necessitar de suporte para o tratamento de insuficiência respiratória.\n"
      ]
    },
    {
      "cell_type": "markdown",
      "metadata": {
        "id": "XRBfE7xAuwVO",
        "colab_type": "text"
      },
      "source": [
        "### Como é transmitido\n",
        "\n",
        "A transmissão acontece de uma pessoa doente para outra ou por contato próximo por meio de: Toque do aperto de mão, gotículas de saliva, espirro, tosse, catarro e objetos ou superfícies contaminadas. \n",
        "\n",
        "---\n",
        "\n"
      ]
    },
    {
      "cell_type": "markdown",
      "metadata": {
        "id": "rgAlUmcU0Gad",
        "colab_type": "text"
      },
      "source": [
        "Com o objetivo de elevar a consciência situacional a respeito do COVID-19 no Brasil, irei realizar uma análise sobre os dados públicos da doença"
      ]
    },
    {
      "cell_type": "markdown",
      "metadata": {
        "id": "WcvjVUhP0Urw",
        "colab_type": "text"
      },
      "source": [
        "# Obtenção dos dados\n",
        "\n",
        "Os dados para essa análise serão obtidos através do repositório do Github da [Our World In Data](https://ourworldindata.org/coronavirus-data), organização internacional sem fins lucrativos de pesquisa e obtenção de dados.\n",
        "\n",
        "Existe muita controvérsia a respeito da obtenção dos dados reais da contaminação do COVID-19. Por um período o governo brasileiro, por exemplo, chegou a omitir a divulgação dos mesmo, causando grande repercussão, inclusive internacional.\n",
        "Encontramos, além disso, dados divergentes entre os apresentados pelas secretarias estaduais e o Ministério da Saúde, o que torna muito complicado obter uma fonte que inspire confiança dentro do nosso país atualmente.\n",
        "\n",
        "Decidi então, usar uma base de dados internacional, para garantir isenção de viéses tanto da minha parte, quanto à quem interessar este projeto.\n",
        "\n",
        "### Dicionário de Variáveis\n",
        "\n",
        "Apresentarei o [dicionário das variáveis](https://github.com/owid/covid-19-data/blob/master/public/data/owid-covid-data-codebook.md) do nosso banco de dados.\n",
        "\n",
        "* ***iso_code*** -\tcódigo da federação\n",
        "* ***continent*** -\tcontinente da localização geográfica\n",
        "* ***location*** -\tlocalização geográfica\n",
        "* ***date*** -\tdata de observação\n",
        "* ***total_cases*** -\ttotal de casos confirmados\n",
        "* ***new_cases***\t- novos casos confirmados\n",
        "* ***total_deaths***\t- total de mortes atribuídas ao COVID-19\n",
        "* ***new_deaths***\t- novas mortes atribuídas ao COVID-19\n",
        "* ***total_cases_per_million***\t- total de casos confirmados de  COVID-19 por 1,000,000 pessoas\n",
        "* ***new_cases_per_million***\t- novos casos confirmados de  COVID-19 por 1,000,000 pessoas\n",
        "* ***total_deaths_per_million*** - total de mortes confirmadas de  COVID-19 por 1,000,000 pessoas\n",
        "* ***new_deaths_per_million***\t- novas mortes confirmadas de  COVID-19 por 1,000,000 pessoas\n",
        "* ***total_tests*** - total de testes para COVID-19\n",
        "* ***new_tests***\t- novos testes para COVID-19\n",
        "* ***new_tests_smoothed*** - \tnovos testes para COVID-19 (últimos 7 dias)\n",
        "* ***total_tests_per_thousand*** - total de testes por 1,000 pessoas\n",
        "* ***new_tests_per_thousand***\t- novos teste por 1,000 pessoas\n",
        "* ***new_tests_smoothed_per_thousand***\t- novos testes por 1,000 pessoas (últimos 7 dias)\n",
        "* ***tests_units***\t- unidades de testes por localização\n",
        "* ***stringency_index***\t- medição baseada em 9 indicadores governamentais (0 a 100)\n",
        "* ***population***\t- população em 2020\n",
        "* ***population_density***\t- densidade populacional (população divida pela área habitada)\n",
        "* ***median_age***\t- mediana da idade da população\n",
        "* ***aged_65_older***\t- população com mais de 65 anos\n",
        "* ***aged_70_older***\t- população com mais de 70 anos\n",
        "* ***gdp_per_capita***\t- PIB per capita\n",
        "* ***extreme_poverty***\t- populaçao em extrema pobreza\n",
        "* ***cvd_death_rate***\t- taxa de mortalidade por doença cardiovascular\n",
        "* ***diabetes_prevalence***\t- porcentagem de população diabética(20 a 79 anos)\n",
        "* ***female_smokers*** - mulheres fumantes\n",
        "* ***male_smokers***\t- homens fumantes\n",
        "* ***handwashing_facilities***\t- parcela da população com acesso a higiênização das mãos\n",
        "* ***hospital_beds_per_thousand***\t- leitos de hospitais por 1,000 pessoas\n",
        "* ***life_expectancy***\t- expectativa de vida\n",
        "\n",
        "\n",
        "### Importando os dados do COVID-19\n",
        "\n",
        "\n"
      ]
    },
    {
      "cell_type": "code",
      "metadata": {
        "id": "lKflr2851rHB",
        "colab_type": "code",
        "colab": {}
      },
      "source": [
        "# Importar pacotes necessários\n",
        "import pandas as pd\n",
        "import numpy as np\n",
        "import matplotlib.pyplot as plt\n",
        "import matplotlib.ticker as mticker\n",
        "import seaborn as sns\n",
        "import warnings\n",
        "warnings.filterwarnings('ignore')\n",
        "%matplotlib inline"
      ],
      "execution_count": 79,
      "outputs": []
    },
    {
      "cell_type": "code",
      "metadata": {
        "id": "Y9qQT-vk9UxM",
        "colab_type": "code",
        "colab": {}
      },
      "source": [
        "# Importar o dataset para um DataFrame\n",
        "df = pd.read_csv(\"https://raw.githubusercontent.com/owid/covid-19-data/master/public/data/owid-covid-data.csv\")"
      ],
      "execution_count": 80,
      "outputs": []
    },
    {
      "cell_type": "markdown",
      "metadata": {
        "id": "F_FoXtMV-X03",
        "colab_type": "text"
      },
      "source": [
        "# Análise Exploratória dos Dados\n",
        "\n",
        "Inicialmente iremos conhecer um pouco mais os dados que temos disponíveis para futuro aprofundamento na análise.\n",
        "\n",
        "Visualizando as cinco primeiras entradas é possível ter uma boa ideia de como está disposta a tabela."
      ]
    },
    {
      "cell_type": "code",
      "metadata": {
        "id": "xY46whF8-AgH",
        "colab_type": "code",
        "colab": {
          "base_uri": "https://localhost:8080/",
          "height": 309
        },
        "outputId": "2b9317a9-02a3-4c8b-a125-793f80599b41"
      },
      "source": [
        "df.head()"
      ],
      "execution_count": 81,
      "outputs": [
        {
          "output_type": "execute_result",
          "data": {
            "text/html": [
              "<div>\n",
              "<style scoped>\n",
              "    .dataframe tbody tr th:only-of-type {\n",
              "        vertical-align: middle;\n",
              "    }\n",
              "\n",
              "    .dataframe tbody tr th {\n",
              "        vertical-align: top;\n",
              "    }\n",
              "\n",
              "    .dataframe thead th {\n",
              "        text-align: right;\n",
              "    }\n",
              "</style>\n",
              "<table border=\"1\" class=\"dataframe\">\n",
              "  <thead>\n",
              "    <tr style=\"text-align: right;\">\n",
              "      <th></th>\n",
              "      <th>iso_code</th>\n",
              "      <th>continent</th>\n",
              "      <th>location</th>\n",
              "      <th>date</th>\n",
              "      <th>total_cases</th>\n",
              "      <th>new_cases</th>\n",
              "      <th>total_deaths</th>\n",
              "      <th>new_deaths</th>\n",
              "      <th>total_cases_per_million</th>\n",
              "      <th>new_cases_per_million</th>\n",
              "      <th>total_deaths_per_million</th>\n",
              "      <th>new_deaths_per_million</th>\n",
              "      <th>new_tests</th>\n",
              "      <th>total_tests</th>\n",
              "      <th>total_tests_per_thousand</th>\n",
              "      <th>new_tests_per_thousand</th>\n",
              "      <th>new_tests_smoothed</th>\n",
              "      <th>new_tests_smoothed_per_thousand</th>\n",
              "      <th>tests_units</th>\n",
              "      <th>stringency_index</th>\n",
              "      <th>population</th>\n",
              "      <th>population_density</th>\n",
              "      <th>median_age</th>\n",
              "      <th>aged_65_older</th>\n",
              "      <th>aged_70_older</th>\n",
              "      <th>gdp_per_capita</th>\n",
              "      <th>extreme_poverty</th>\n",
              "      <th>cardiovasc_death_rate</th>\n",
              "      <th>diabetes_prevalence</th>\n",
              "      <th>female_smokers</th>\n",
              "      <th>male_smokers</th>\n",
              "      <th>handwashing_facilities</th>\n",
              "      <th>hospital_beds_per_thousand</th>\n",
              "      <th>life_expectancy</th>\n",
              "    </tr>\n",
              "  </thead>\n",
              "  <tbody>\n",
              "    <tr>\n",
              "      <th>0</th>\n",
              "      <td>AFG</td>\n",
              "      <td>Asia</td>\n",
              "      <td>Afghanistan</td>\n",
              "      <td>2019-12-31</td>\n",
              "      <td>0.0</td>\n",
              "      <td>0.0</td>\n",
              "      <td>0.0</td>\n",
              "      <td>0.0</td>\n",
              "      <td>0.0</td>\n",
              "      <td>0.0</td>\n",
              "      <td>0.0</td>\n",
              "      <td>0.0</td>\n",
              "      <td>NaN</td>\n",
              "      <td>NaN</td>\n",
              "      <td>NaN</td>\n",
              "      <td>NaN</td>\n",
              "      <td>NaN</td>\n",
              "      <td>NaN</td>\n",
              "      <td>NaN</td>\n",
              "      <td>NaN</td>\n",
              "      <td>38928341.0</td>\n",
              "      <td>54.422</td>\n",
              "      <td>18.6</td>\n",
              "      <td>2.581</td>\n",
              "      <td>1.337</td>\n",
              "      <td>1803.987</td>\n",
              "      <td>NaN</td>\n",
              "      <td>597.029</td>\n",
              "      <td>9.59</td>\n",
              "      <td>NaN</td>\n",
              "      <td>NaN</td>\n",
              "      <td>37.746</td>\n",
              "      <td>0.5</td>\n",
              "      <td>64.83</td>\n",
              "    </tr>\n",
              "    <tr>\n",
              "      <th>1</th>\n",
              "      <td>AFG</td>\n",
              "      <td>Asia</td>\n",
              "      <td>Afghanistan</td>\n",
              "      <td>2020-01-01</td>\n",
              "      <td>0.0</td>\n",
              "      <td>0.0</td>\n",
              "      <td>0.0</td>\n",
              "      <td>0.0</td>\n",
              "      <td>0.0</td>\n",
              "      <td>0.0</td>\n",
              "      <td>0.0</td>\n",
              "      <td>0.0</td>\n",
              "      <td>NaN</td>\n",
              "      <td>NaN</td>\n",
              "      <td>NaN</td>\n",
              "      <td>NaN</td>\n",
              "      <td>NaN</td>\n",
              "      <td>NaN</td>\n",
              "      <td>NaN</td>\n",
              "      <td>0.0</td>\n",
              "      <td>38928341.0</td>\n",
              "      <td>54.422</td>\n",
              "      <td>18.6</td>\n",
              "      <td>2.581</td>\n",
              "      <td>1.337</td>\n",
              "      <td>1803.987</td>\n",
              "      <td>NaN</td>\n",
              "      <td>597.029</td>\n",
              "      <td>9.59</td>\n",
              "      <td>NaN</td>\n",
              "      <td>NaN</td>\n",
              "      <td>37.746</td>\n",
              "      <td>0.5</td>\n",
              "      <td>64.83</td>\n",
              "    </tr>\n",
              "    <tr>\n",
              "      <th>2</th>\n",
              "      <td>AFG</td>\n",
              "      <td>Asia</td>\n",
              "      <td>Afghanistan</td>\n",
              "      <td>2020-01-02</td>\n",
              "      <td>0.0</td>\n",
              "      <td>0.0</td>\n",
              "      <td>0.0</td>\n",
              "      <td>0.0</td>\n",
              "      <td>0.0</td>\n",
              "      <td>0.0</td>\n",
              "      <td>0.0</td>\n",
              "      <td>0.0</td>\n",
              "      <td>NaN</td>\n",
              "      <td>NaN</td>\n",
              "      <td>NaN</td>\n",
              "      <td>NaN</td>\n",
              "      <td>NaN</td>\n",
              "      <td>NaN</td>\n",
              "      <td>NaN</td>\n",
              "      <td>0.0</td>\n",
              "      <td>38928341.0</td>\n",
              "      <td>54.422</td>\n",
              "      <td>18.6</td>\n",
              "      <td>2.581</td>\n",
              "      <td>1.337</td>\n",
              "      <td>1803.987</td>\n",
              "      <td>NaN</td>\n",
              "      <td>597.029</td>\n",
              "      <td>9.59</td>\n",
              "      <td>NaN</td>\n",
              "      <td>NaN</td>\n",
              "      <td>37.746</td>\n",
              "      <td>0.5</td>\n",
              "      <td>64.83</td>\n",
              "    </tr>\n",
              "    <tr>\n",
              "      <th>3</th>\n",
              "      <td>AFG</td>\n",
              "      <td>Asia</td>\n",
              "      <td>Afghanistan</td>\n",
              "      <td>2020-01-03</td>\n",
              "      <td>0.0</td>\n",
              "      <td>0.0</td>\n",
              "      <td>0.0</td>\n",
              "      <td>0.0</td>\n",
              "      <td>0.0</td>\n",
              "      <td>0.0</td>\n",
              "      <td>0.0</td>\n",
              "      <td>0.0</td>\n",
              "      <td>NaN</td>\n",
              "      <td>NaN</td>\n",
              "      <td>NaN</td>\n",
              "      <td>NaN</td>\n",
              "      <td>NaN</td>\n",
              "      <td>NaN</td>\n",
              "      <td>NaN</td>\n",
              "      <td>0.0</td>\n",
              "      <td>38928341.0</td>\n",
              "      <td>54.422</td>\n",
              "      <td>18.6</td>\n",
              "      <td>2.581</td>\n",
              "      <td>1.337</td>\n",
              "      <td>1803.987</td>\n",
              "      <td>NaN</td>\n",
              "      <td>597.029</td>\n",
              "      <td>9.59</td>\n",
              "      <td>NaN</td>\n",
              "      <td>NaN</td>\n",
              "      <td>37.746</td>\n",
              "      <td>0.5</td>\n",
              "      <td>64.83</td>\n",
              "    </tr>\n",
              "    <tr>\n",
              "      <th>4</th>\n",
              "      <td>AFG</td>\n",
              "      <td>Asia</td>\n",
              "      <td>Afghanistan</td>\n",
              "      <td>2020-01-04</td>\n",
              "      <td>0.0</td>\n",
              "      <td>0.0</td>\n",
              "      <td>0.0</td>\n",
              "      <td>0.0</td>\n",
              "      <td>0.0</td>\n",
              "      <td>0.0</td>\n",
              "      <td>0.0</td>\n",
              "      <td>0.0</td>\n",
              "      <td>NaN</td>\n",
              "      <td>NaN</td>\n",
              "      <td>NaN</td>\n",
              "      <td>NaN</td>\n",
              "      <td>NaN</td>\n",
              "      <td>NaN</td>\n",
              "      <td>NaN</td>\n",
              "      <td>0.0</td>\n",
              "      <td>38928341.0</td>\n",
              "      <td>54.422</td>\n",
              "      <td>18.6</td>\n",
              "      <td>2.581</td>\n",
              "      <td>1.337</td>\n",
              "      <td>1803.987</td>\n",
              "      <td>NaN</td>\n",
              "      <td>597.029</td>\n",
              "      <td>9.59</td>\n",
              "      <td>NaN</td>\n",
              "      <td>NaN</td>\n",
              "      <td>37.746</td>\n",
              "      <td>0.5</td>\n",
              "      <td>64.83</td>\n",
              "    </tr>\n",
              "  </tbody>\n",
              "</table>\n",
              "</div>"
            ],
            "text/plain": [
              "  iso_code continent  ... hospital_beds_per_thousand life_expectancy\n",
              "0      AFG      Asia  ...                        0.5           64.83\n",
              "1      AFG      Asia  ...                        0.5           64.83\n",
              "2      AFG      Asia  ...                        0.5           64.83\n",
              "3      AFG      Asia  ...                        0.5           64.83\n",
              "4      AFG      Asia  ...                        0.5           64.83\n",
              "\n",
              "[5 rows x 34 columns]"
            ]
          },
          "metadata": {
            "tags": []
          },
          "execution_count": 81
        }
      ]
    },
    {
      "cell_type": "markdown",
      "metadata": {
        "id": "K0meph7NE6LW",
        "colab_type": "text"
      },
      "source": [
        "Verificar o tamanho total (entradas e variáveis) do DataFrame."
      ]
    },
    {
      "cell_type": "code",
      "metadata": {
        "id": "Q0rlWw2y-DKk",
        "colab_type": "code",
        "colab": {
          "base_uri": "https://localhost:8080/",
          "height": 51
        },
        "outputId": "e8b79598-a87b-457c-858c-3bd981afcf37"
      },
      "source": [
        "print(\"Quantidade de entradas: %s\" % (df.shape[0]))\n",
        "print(\"Quantidade de variáveis: %s\" % (df.shape[1]))"
      ],
      "execution_count": 82,
      "outputs": [
        {
          "output_type": "stream",
          "text": [
            "Quantidade de entradas: 33627\n",
            "Quantidade de variáveis: 34\n"
          ],
          "name": "stdout"
        }
      ]
    },
    {
      "cell_type": "markdown",
      "metadata": {
        "id": "3OeMiscRHBXJ",
        "colab_type": "text"
      },
      "source": [
        "Verificar os tipos das variáveis."
      ]
    },
    {
      "cell_type": "code",
      "metadata": {
        "id": "JCj6ePPQFKgU",
        "colab_type": "code",
        "colab": {
          "base_uri": "https://localhost:8080/",
          "height": 612
        },
        "outputId": "eeaba588-00fb-4832-f493-354a8d7561ba"
      },
      "source": [
        "df.dtypes"
      ],
      "execution_count": 83,
      "outputs": [
        {
          "output_type": "execute_result",
          "data": {
            "text/plain": [
              "iso_code                            object\n",
              "continent                           object\n",
              "location                            object\n",
              "date                                object\n",
              "total_cases                        float64\n",
              "new_cases                          float64\n",
              "total_deaths                       float64\n",
              "new_deaths                         float64\n",
              "total_cases_per_million            float64\n",
              "new_cases_per_million              float64\n",
              "total_deaths_per_million           float64\n",
              "new_deaths_per_million             float64\n",
              "new_tests                          float64\n",
              "total_tests                        float64\n",
              "total_tests_per_thousand           float64\n",
              "new_tests_per_thousand             float64\n",
              "new_tests_smoothed                 float64\n",
              "new_tests_smoothed_per_thousand    float64\n",
              "tests_units                         object\n",
              "stringency_index                   float64\n",
              "population                         float64\n",
              "population_density                 float64\n",
              "median_age                         float64\n",
              "aged_65_older                      float64\n",
              "aged_70_older                      float64\n",
              "gdp_per_capita                     float64\n",
              "extreme_poverty                    float64\n",
              "cardiovasc_death_rate              float64\n",
              "diabetes_prevalence                float64\n",
              "female_smokers                     float64\n",
              "male_smokers                       float64\n",
              "handwashing_facilities             float64\n",
              "hospital_beds_per_thousand         float64\n",
              "life_expectancy                    float64\n",
              "dtype: object"
            ]
          },
          "metadata": {
            "tags": []
          },
          "execution_count": 83
        }
      ]
    },
    {
      "cell_type": "markdown",
      "metadata": {
        "id": "1N7Ll1uLHSrK",
        "colab_type": "text"
      },
      "source": [
        "Checando as variáveis, notamos que a coluna ***date*** lista os dados como object. Para facilitar nossa análise, vamos transforma-la em valores datetime(datas XXXX-XX-XX)"
      ]
    },
    {
      "cell_type": "code",
      "metadata": {
        "id": "HnO54EI7G-3o",
        "colab_type": "code",
        "colab": {}
      },
      "source": [
        "df.date = pd.to_datetime(df.date)"
      ],
      "execution_count": 84,
      "outputs": []
    },
    {
      "cell_type": "markdown",
      "metadata": {
        "id": "BWd4wXlzImx-",
        "colab_type": "text"
      },
      "source": [
        "Identificar a porcentagem de valores ausentes dentro do DataFrame, do maior para o menor."
      ]
    },
    {
      "cell_type": "code",
      "metadata": {
        "id": "1-ILAKtWITmc",
        "colab_type": "code",
        "colab": {
          "base_uri": "https://localhost:8080/",
          "height": 612
        },
        "outputId": "d8ef4d7f-8ae9-40bb-8b0e-48fca183abdc"
      },
      "source": [
        "(df.isnull().sum() / df.shape[0]).sort_values(ascending=False)"
      ],
      "execution_count": 85,
      "outputs": [
        {
          "output_type": "execute_result",
          "data": {
            "text/plain": [
              "new_tests_per_thousand             0.682517\n",
              "new_tests                          0.682517\n",
              "total_tests_per_thousand           0.675737\n",
              "total_tests                        0.675737\n",
              "new_tests_smoothed_per_thousand    0.647634\n",
              "new_tests_smoothed                 0.647634\n",
              "tests_units                        0.624885\n",
              "handwashing_facilities             0.587950\n",
              "extreme_poverty                    0.405626\n",
              "male_smokers                       0.294317\n",
              "female_smokers                     0.285753\n",
              "stringency_index                   0.187677\n",
              "hospital_beds_per_thousand         0.181669\n",
              "aged_65_older                      0.113183\n",
              "gdp_per_capita                     0.111101\n",
              "aged_70_older                      0.104767\n",
              "median_age                         0.100128\n",
              "cardiovasc_death_rate              0.099860\n",
              "diabetes_prevalence                0.069290\n",
              "population_density                 0.045142\n",
              "life_expectancy                    0.013947\n",
              "new_deaths_per_million             0.012460\n",
              "total_deaths_per_million           0.012460\n",
              "new_cases_per_million              0.012460\n",
              "total_cases_per_million            0.012460\n",
              "new_deaths                         0.010557\n",
              "total_deaths                       0.010557\n",
              "new_cases                          0.010557\n",
              "total_cases                        0.010557\n",
              "continent                          0.008237\n",
              "population                         0.001903\n",
              "iso_code                           0.001903\n",
              "date                               0.000000\n",
              "location                           0.000000\n",
              "dtype: float64"
            ]
          },
          "metadata": {
            "tags": []
          },
          "execution_count": 85
        }
      ]
    },
    {
      "cell_type": "markdown",
      "metadata": {
        "id": "mFSKAvHYJqK8",
        "colab_type": "text"
      },
      "source": [
        "Nota-se que há muitos valores ausentes nas amostras sobre a testagem do COVID-19  (perto dos 70%). Isso se dá devido a dificuldade de muitos países em testar sua população. Os testes ainda são caros o que restringe bastante o acesso aos países menos desenvolvidos.\n",
        "\n",
        "Apesar disso, a ausência desses dados não afetará a análise deste projeto."
      ]
    },
    {
      "cell_type": "markdown",
      "metadata": {
        "id": "ZDeF91G2LAej",
        "colab_type": "text"
      },
      "source": [
        "## Panorâma Mundial\n",
        "\n",
        "Antes de focar no Brasil, abrangeremos a análise em teor mundial, para fins de comparação da propagação do vírus aqui e lá fora."
      ]
    },
    {
      "cell_type": "markdown",
      "metadata": {
        "id": "8BqLFfWRLxCd",
        "colab_type": "text"
      },
      "source": [
        "### Países com mais casos\n",
        "\n",
        "Apresentar os 5 países com mais casos em todo mundo até a publicação dessa análise (30-07-2020)."
      ]
    },
    {
      "cell_type": "code",
      "metadata": {
        "id": "GapYdmzzz15h",
        "colab_type": "code",
        "colab": {
          "base_uri": "https://localhost:8080/",
          "height": 204
        },
        "outputId": "0e9e5432-ee5b-45bd-fbee-28714acfa0dc"
      },
      "source": [
        "# Atribuir slice dos 5 primeiros a uma variável e apresentar o dataframe\n",
        "df_cases = df.loc[df.date == '2020-07-30',\n",
        "                  ['location', 'total_cases']].sort_values(by='total_cases', ascending=False)[1:6].copy()\n",
        "df_cases"
      ],
      "execution_count": 105,
      "outputs": [
        {
          "output_type": "execute_result",
          "data": {
            "text/html": [
              "<div>\n",
              "<style scoped>\n",
              "    .dataframe tbody tr th:only-of-type {\n",
              "        vertical-align: middle;\n",
              "    }\n",
              "\n",
              "    .dataframe tbody tr th {\n",
              "        vertical-align: top;\n",
              "    }\n",
              "\n",
              "    .dataframe thead th {\n",
              "        text-align: right;\n",
              "    }\n",
              "</style>\n",
              "<table border=\"1\" class=\"dataframe\">\n",
              "  <thead>\n",
              "    <tr style=\"text-align: right;\">\n",
              "      <th></th>\n",
              "      <th>location</th>\n",
              "      <th>total_cases</th>\n",
              "    </tr>\n",
              "  </thead>\n",
              "  <tbody>\n",
              "    <tr>\n",
              "      <th>31984</th>\n",
              "      <td>United States</td>\n",
              "      <td>4426982.0</td>\n",
              "    </tr>\n",
              "    <tr>\n",
              "      <th>4549</th>\n",
              "      <td>Brazil</td>\n",
              "      <td>2552265.0</td>\n",
              "    </tr>\n",
              "    <tr>\n",
              "      <th>14293</th>\n",
              "      <td>India</td>\n",
              "      <td>1583792.0</td>\n",
              "    </tr>\n",
              "    <tr>\n",
              "      <th>25367</th>\n",
              "      <td>Russia</td>\n",
              "      <td>828990.0</td>\n",
              "    </tr>\n",
              "    <tr>\n",
              "      <th>27880</th>\n",
              "      <td>South Africa</td>\n",
              "      <td>471123.0</td>\n",
              "    </tr>\n",
              "  </tbody>\n",
              "</table>\n",
              "</div>"
            ],
            "text/plain": [
              "            location  total_cases\n",
              "31984  United States    4426982.0\n",
              "4549          Brazil    2552265.0\n",
              "14293          India    1583792.0\n",
              "25367         Russia     828990.0\n",
              "27880   South Africa     471123.0"
            ]
          },
          "metadata": {
            "tags": []
          },
          "execution_count": 105
        }
      ]
    },
    {
      "cell_type": "code",
      "metadata": {
        "id": "lZDYuNli_kcx",
        "colab_type": "code",
        "colab": {
          "base_uri": "https://localhost:8080/",
          "height": 441
        },
        "outputId": "c1c650e9-e501-4293-a053-c1a0e354153a"
      },
      "source": [
        "# Plotar o gráfico avançado\n",
        "nomes = list(df_cases.iloc[:5,0]) \n",
        "\n",
        "sns.set_style('white')\n",
        "fig, ax = plt.subplots(figsize=(10,6))  \n",
        "plot = ax.bar(x='location', height='total_cases', data=df_cases, color=sns.color_palette('Blues_r'))\n",
        "\n",
        "ax.set_ylim(0, df_cases.iloc[0, 1] * 1.15)\n",
        "ax.grid(False)  \n",
        "ax.tick_params(top=False, bottom=False, right=False, left=False, labelleft=False, labelbottom=False) \n",
        "ax.ticklabel_format(axis='y', style='plain')  \n",
        "ax.set_title('Casos de COVID-19', alpha=0.7)  \n",
        "ax.set_ylabel(' ') \n",
        "ax.set_xlabel(' ') \n",
        "\n",
        "for key, spine in ax.spines.items():   \n",
        "        spine.set_visible(False)\n",
        "\n",
        "for rect, case in zip(plot, nomes):   \n",
        "      height = rect.get_height()\n",
        "      ax.text(x=rect.get_x() + rect.get_width() / 2, y=height * 0.7, s=case, ha='center', color='w', fontsize=10, fontweight='bold')  \n",
        "      ax.text(x=rect.get_x() + rect.get_width() / 2, y=height * 1.05, s=f'{int(height)}', ha='center', color='black', fontsize=14, alpha=0.4)\n",
        "\n",
        "plt.tight_layout()\n",
        "plt.show()"
      ],
      "execution_count": 106,
      "outputs": [
        {
          "output_type": "display_data",
          "data": {
            "image/png": "[encoded data removed]",
            "text/plain": [
              "<Figure size 720x432 with 1 Axes>"
            ]
          },
          "metadata": {
            "tags": []
          }
        }
      ]
    },
    {
      "cell_type": "markdown",
      "metadata": {
        "id": "qSnmVdgJUnUe",
        "colab_type": "text"
      },
      "source": [
        "### Países com mais óbitos\n",
        "\n",
        "Apresentar os 5 países com mais óbitos em todo mundo até a publicação dessa análise (30-07-2020)."
      ]
    },
    {
      "cell_type": "code",
      "metadata": {
        "id": "e-KFoqka0CcF",
        "colab_type": "code",
        "colab": {
          "base_uri": "https://localhost:8080/",
          "height": 204
        },
        "outputId": "30695e51-604c-4a77-c921-3f2254931ffb"
      },
      "source": [
        "# Atribuir slice dos 5 primeiros a uma variável e apresentar o dataframe\n",
        "df_deaths = df.loc[df.date == '2020-07-30',\n",
        "       ['location', 'total_deaths']].sort_values(by='total_deaths', ascending=False)[1:6].copy()\n",
        "df_deaths"
      ],
      "execution_count": 107,
      "outputs": [
        {
          "output_type": "execute_result",
          "data": {
            "text/html": [
              "<div>\n",
              "<style scoped>\n",
              "    .dataframe tbody tr th:only-of-type {\n",
              "        vertical-align: middle;\n",
              "    }\n",
              "\n",
              "    .dataframe tbody tr th {\n",
              "        vertical-align: top;\n",
              "    }\n",
              "\n",
              "    .dataframe thead th {\n",
              "        text-align: right;\n",
              "    }\n",
              "</style>\n",
              "<table border=\"1\" class=\"dataframe\">\n",
              "  <thead>\n",
              "    <tr style=\"text-align: right;\">\n",
              "      <th></th>\n",
              "      <th>location</th>\n",
              "      <th>total_deaths</th>\n",
              "    </tr>\n",
              "  </thead>\n",
              "  <tbody>\n",
              "    <tr>\n",
              "      <th>31984</th>\n",
              "      <td>United States</td>\n",
              "      <td>150713.0</td>\n",
              "    </tr>\n",
              "    <tr>\n",
              "      <th>4549</th>\n",
              "      <td>Brazil</td>\n",
              "      <td>90134.0</td>\n",
              "    </tr>\n",
              "    <tr>\n",
              "      <th>31771</th>\n",
              "      <td>United Kingdom</td>\n",
              "      <td>45961.0</td>\n",
              "    </tr>\n",
              "    <tr>\n",
              "      <th>20078</th>\n",
              "      <td>Mexico</td>\n",
              "      <td>45361.0</td>\n",
              "    </tr>\n",
              "    <tr>\n",
              "      <th>15692</th>\n",
              "      <td>Italy</td>\n",
              "      <td>35129.0</td>\n",
              "    </tr>\n",
              "  </tbody>\n",
              "</table>\n",
              "</div>"
            ],
            "text/plain": [
              "             location  total_deaths\n",
              "31984   United States      150713.0\n",
              "4549           Brazil       90134.0\n",
              "31771  United Kingdom       45961.0\n",
              "20078          Mexico       45361.0\n",
              "15692           Italy       35129.0"
            ]
          },
          "metadata": {
            "tags": []
          },
          "execution_count": 107
        }
      ]
    },
    {
      "cell_type": "code",
      "metadata": {
        "id": "Dq1GWxZQBkxX",
        "colab_type": "code",
        "colab": {
          "base_uri": "https://localhost:8080/",
          "height": 441
        },
        "outputId": "b292a0a2-65da-4350-e2fc-59969c35ca6e"
      },
      "source": [
        "# Formato do gráfico\n",
        "nomes_deaths = list(df_deaths.iloc[:5,0]) # Gravar numa variavel lista o nome dos 5 primeiros paises\n",
        "\n",
        "fig, ax = plt.subplots(figsize=(10,6))\n",
        "plot2 = ax.bar(x='location', height='total_deaths', data=df_deaths, color=sns.color_palette('Reds_r'))\n",
        "\n",
        "# Limpar as bordas e marcações\n",
        "ax.grid(False)\n",
        "ax.tick_params(top=False, bottom=False, right=False, left=False, labelleft=False, labelbottom=False)\n",
        "\n",
        "\n",
        "# Ajustar os dados dentro das barras\n",
        "ax.set_ylim(0, df_deaths.iloc[0, 1] * 1.15)\n",
        "ax.ticklabel_format(axis='y', style='plain')\n",
        "for key, spine in ax.spines.items():   \n",
        "        spine.set_visible(False)\n",
        "\n",
        "# Ajustar o título\n",
        "ax.set_title('Óbitos por COVID-19', alpha=0.7, size=15)\n",
        "\n",
        "\n",
        "# Ajustar os nomes dos paises a coluna correspondente e ajustar os tamanhos de fonte e alinhamento dentro da barra\n",
        "for rect, case in zip(plot2, nomes_deaths):   \n",
        "      height = rect.get_height()\n",
        "      ax.text(x=rect.get_x() + rect.get_width() / 2, y=height * 0.7, s=case, ha='center', color='w', fontsize=10, fontweight='bold')  \n",
        "      ax.text(x=rect.get_x() + rect.get_width() / 2, y=height * 1.05, s=f'{int(height)}', ha='center', color='black', fontsize=11, alpha=0.4)\n",
        "\n",
        "\n",
        "plt.tight_layout()\n",
        "plt.show()"
      ],
      "execution_count": 108,
      "outputs": [
        {
          "output_type": "display_data",
          "data": {
            "image/png": "[encoded data removed]",
            "text/plain": [
              "<Figure size 720x432 with 1 Axes>"
            ]
          },
          "metadata": {
            "tags": []
          }
        }
      ]
    },
    {
      "cell_type": "markdown",
      "metadata": {
        "id": "jZNP7dd8XuS1",
        "colab_type": "text"
      },
      "source": [
        "Abaixo, a curva de crescimento dos casos fatais no mundo. Foi usada escala logarítimca no eixo Y para melhor visualização e modifiquei as labels do eixo X para melhor leitura do tempo decorrido."
      ]
    },
    {
      "cell_type": "code",
      "metadata": {
        "id": "G9aC3M-iVWT-",
        "colab_type": "code",
        "colab": {
          "base_uri": "https://localhost:8080/",
          "height": 441
        },
        "outputId": "fb6fe471-62b8-492b-89b2-b24a1671a4e9"
      },
      "source": [
        "df3 = df[(df['location'] == 'World') & (df['total_deaths'] > 0)]\n",
        "labels = ['Jan', 'Fev', 'Mar', 'Abr', 'Mai', 'Jun', 'Jul', 'Ago']\n",
        "\n",
        "sns.set_style('white')\n",
        "fig, ax = plt.subplots(figsize=(10,6))\n",
        "\n",
        "ax.plot(df3['date'], df3['total_deaths'], marker='o', color='r', linewidth=3, markersize=12, markeredgecolor='w', markeredgewidth=0.5, markevery=[-1])\n",
        "\n",
        "sns.despine()\n",
        "ax.set_yscale('log')\n",
        "ax.set_title('Total de óbitos - Log Scale', alpha=0.7)\n",
        "ax.xaxis.set_major_locator(mticker.LinearLocator(8))\n",
        "ax.set_xticklabels(labels)\n",
        " \n",
        "plt.tight_layout()\n",
        "plt.show()"
      ],
      "execution_count": 124,
      "outputs": [
        {
          "output_type": "display_data",
          "data": {
            "image/png": "[encoded data removed]",
            "text/plain": [
              "<Figure size 720x432 with 1 Axes>"
            ]
          },
          "metadata": {
            "tags": []
          }
        }
      ]
    },
    {
      "cell_type": "markdown",
      "metadata": {
        "id": "2EAtJatwvCqG",
        "colab_type": "text"
      },
      "source": [
        "## Análise Exploratória do Brasil\n",
        "\n",
        "Agora iremos analisar o panorâma brasileiro frente ao avanço do novo coronavírus."
      ]
    },
    {
      "cell_type": "code",
      "metadata": {
        "id": "cK9BLFGTvR4n",
        "colab_type": "code",
        "colab": {}
      },
      "source": [
        "# Atribuir os dados do Brasil a uma nova variável\n",
        "df_br = df.loc[df.location == 'Brazil'].copy()"
      ],
      "execution_count": 91,
      "outputs": []
    },
    {
      "cell_type": "code",
      "metadata": {
        "id": "H-6FzMmNxsMa",
        "colab_type": "code",
        "colab": {
          "base_uri": "https://localhost:8080/",
          "height": 117
        },
        "outputId": "5d04863a-7a11-4b5d-fbb1-64c92f9fa531"
      },
      "source": [
        "# Localizar quando foi registrado o primeiro caso\n",
        "df_br.loc[df_br.total_cases != 0.0].sort_values(by='total_cases')[:1]"
      ],
      "execution_count": 92,
      "outputs": [
        {
          "output_type": "execute_result",
          "data": {
            "text/html": [
              "<div>\n",
              "<style scoped>\n",
              "    .dataframe tbody tr th:only-of-type {\n",
              "        vertical-align: middle;\n",
              "    }\n",
              "\n",
              "    .dataframe tbody tr th {\n",
              "        vertical-align: top;\n",
              "    }\n",
              "\n",
              "    .dataframe thead th {\n",
              "        text-align: right;\n",
              "    }\n",
              "</style>\n",
              "<table border=\"1\" class=\"dataframe\">\n",
              "  <thead>\n",
              "    <tr style=\"text-align: right;\">\n",
              "      <th></th>\n",
              "      <th>iso_code</th>\n",
              "      <th>continent</th>\n",
              "      <th>location</th>\n",
              "      <th>date</th>\n",
              "      <th>total_cases</th>\n",
              "      <th>new_cases</th>\n",
              "      <th>total_deaths</th>\n",
              "      <th>new_deaths</th>\n",
              "      <th>total_cases_per_million</th>\n",
              "      <th>new_cases_per_million</th>\n",
              "      <th>total_deaths_per_million</th>\n",
              "      <th>new_deaths_per_million</th>\n",
              "      <th>new_tests</th>\n",
              "      <th>total_tests</th>\n",
              "      <th>total_tests_per_thousand</th>\n",
              "      <th>new_tests_per_thousand</th>\n",
              "      <th>new_tests_smoothed</th>\n",
              "      <th>new_tests_smoothed_per_thousand</th>\n",
              "      <th>tests_units</th>\n",
              "      <th>stringency_index</th>\n",
              "      <th>population</th>\n",
              "      <th>population_density</th>\n",
              "      <th>median_age</th>\n",
              "      <th>aged_65_older</th>\n",
              "      <th>aged_70_older</th>\n",
              "      <th>gdp_per_capita</th>\n",
              "      <th>extreme_poverty</th>\n",
              "      <th>cardiovasc_death_rate</th>\n",
              "      <th>diabetes_prevalence</th>\n",
              "      <th>female_smokers</th>\n",
              "      <th>male_smokers</th>\n",
              "      <th>handwashing_facilities</th>\n",
              "      <th>hospital_beds_per_thousand</th>\n",
              "      <th>life_expectancy</th>\n",
              "    </tr>\n",
              "  </thead>\n",
              "  <tbody>\n",
              "    <tr>\n",
              "      <th>4394</th>\n",
              "      <td>BRA</td>\n",
              "      <td>South America</td>\n",
              "      <td>Brazil</td>\n",
              "      <td>2020-02-26</td>\n",
              "      <td>1.0</td>\n",
              "      <td>1.0</td>\n",
              "      <td>0.0</td>\n",
              "      <td>0.0</td>\n",
              "      <td>0.005</td>\n",
              "      <td>0.005</td>\n",
              "      <td>0.0</td>\n",
              "      <td>0.0</td>\n",
              "      <td>NaN</td>\n",
              "      <td>NaN</td>\n",
              "      <td>NaN</td>\n",
              "      <td>NaN</td>\n",
              "      <td>NaN</td>\n",
              "      <td>NaN</td>\n",
              "      <td>NaN</td>\n",
              "      <td>5.56</td>\n",
              "      <td>212559409.0</td>\n",
              "      <td>25.04</td>\n",
              "      <td>33.5</td>\n",
              "      <td>8.552</td>\n",
              "      <td>5.06</td>\n",
              "      <td>14103.452</td>\n",
              "      <td>3.4</td>\n",
              "      <td>177.961</td>\n",
              "      <td>8.11</td>\n",
              "      <td>10.1</td>\n",
              "      <td>17.9</td>\n",
              "      <td>NaN</td>\n",
              "      <td>2.2</td>\n",
              "      <td>75.88</td>\n",
              "    </tr>\n",
              "  </tbody>\n",
              "</table>\n",
              "</div>"
            ],
            "text/plain": [
              "     iso_code      continent  ... hospital_beds_per_thousand life_expectancy\n",
              "4394      BRA  South America  ...                        2.2           75.88\n",
              "\n",
              "[1 rows x 34 columns]"
            ]
          },
          "metadata": {
            "tags": []
          },
          "execution_count": 92
        }
      ]
    },
    {
      "cell_type": "markdown",
      "metadata": {
        "id": "fZadO871RpOV",
        "colab_type": "text"
      },
      "source": [
        "Acima identificamos que o primeiro caso no Brasil foi registrado em 26 de fevereiro de 2020.\n",
        "O chamado [Paciente 1](https://www.sanarsaude.com/blog/confirmado-primeiro-caso-de-coronavirus-na-america-latina?_ga=2.29938488.641205124.1593186148-1563986287.1593186148), um um homem de 61 anos, que voltou de uma viagem a Itália e mora na cidade de São Paulo. \n",
        "\n",
        "Foi também o primeiro caso de COVID-19 confirmado na América Latina."
      ]
    },
    {
      "cell_type": "code",
      "metadata": {
        "id": "VmgLPi8yvjnY",
        "colab_type": "code",
        "colab": {
          "base_uri": "https://localhost:8080/",
          "height": 117
        },
        "outputId": "da3b945e-dd0f-431b-e0bd-339dd6b22fca"
      },
      "source": [
        "# Localizar quando foi resgistrado o primeiro óbito\n",
        "df_br.loc[df_br.total_deaths != 0.0].sort_values(by='total_deaths')[:1]"
      ],
      "execution_count": 93,
      "outputs": [
        {
          "output_type": "execute_result",
          "data": {
            "text/html": [
              "<div>\n",
              "<style scoped>\n",
              "    .dataframe tbody tr th:only-of-type {\n",
              "        vertical-align: middle;\n",
              "    }\n",
              "\n",
              "    .dataframe tbody tr th {\n",
              "        vertical-align: top;\n",
              "    }\n",
              "\n",
              "    .dataframe thead th {\n",
              "        text-align: right;\n",
              "    }\n",
              "</style>\n",
              "<table border=\"1\" class=\"dataframe\">\n",
              "  <thead>\n",
              "    <tr style=\"text-align: right;\">\n",
              "      <th></th>\n",
              "      <th>iso_code</th>\n",
              "      <th>continent</th>\n",
              "      <th>location</th>\n",
              "      <th>date</th>\n",
              "      <th>total_cases</th>\n",
              "      <th>new_cases</th>\n",
              "      <th>total_deaths</th>\n",
              "      <th>new_deaths</th>\n",
              "      <th>total_cases_per_million</th>\n",
              "      <th>new_cases_per_million</th>\n",
              "      <th>total_deaths_per_million</th>\n",
              "      <th>new_deaths_per_million</th>\n",
              "      <th>new_tests</th>\n",
              "      <th>total_tests</th>\n",
              "      <th>total_tests_per_thousand</th>\n",
              "      <th>new_tests_per_thousand</th>\n",
              "      <th>new_tests_smoothed</th>\n",
              "      <th>new_tests_smoothed_per_thousand</th>\n",
              "      <th>tests_units</th>\n",
              "      <th>stringency_index</th>\n",
              "      <th>population</th>\n",
              "      <th>population_density</th>\n",
              "      <th>median_age</th>\n",
              "      <th>aged_65_older</th>\n",
              "      <th>aged_70_older</th>\n",
              "      <th>gdp_per_capita</th>\n",
              "      <th>extreme_poverty</th>\n",
              "      <th>cardiovasc_death_rate</th>\n",
              "      <th>diabetes_prevalence</th>\n",
              "      <th>female_smokers</th>\n",
              "      <th>male_smokers</th>\n",
              "      <th>handwashing_facilities</th>\n",
              "      <th>hospital_beds_per_thousand</th>\n",
              "      <th>life_expectancy</th>\n",
              "    </tr>\n",
              "  </thead>\n",
              "  <tbody>\n",
              "    <tr>\n",
              "      <th>4415</th>\n",
              "      <td>BRA</td>\n",
              "      <td>South America</td>\n",
              "      <td>Brazil</td>\n",
              "      <td>2020-03-18</td>\n",
              "      <td>291.0</td>\n",
              "      <td>57.0</td>\n",
              "      <td>1.0</td>\n",
              "      <td>1.0</td>\n",
              "      <td>1.369</td>\n",
              "      <td>0.268</td>\n",
              "      <td>0.005</td>\n",
              "      <td>0.005</td>\n",
              "      <td>NaN</td>\n",
              "      <td>NaN</td>\n",
              "      <td>NaN</td>\n",
              "      <td>NaN</td>\n",
              "      <td>NaN</td>\n",
              "      <td>NaN</td>\n",
              "      <td>NaN</td>\n",
              "      <td>60.65</td>\n",
              "      <td>212559409.0</td>\n",
              "      <td>25.04</td>\n",
              "      <td>33.5</td>\n",
              "      <td>8.552</td>\n",
              "      <td>5.06</td>\n",
              "      <td>14103.452</td>\n",
              "      <td>3.4</td>\n",
              "      <td>177.961</td>\n",
              "      <td>8.11</td>\n",
              "      <td>10.1</td>\n",
              "      <td>17.9</td>\n",
              "      <td>NaN</td>\n",
              "      <td>2.2</td>\n",
              "      <td>75.88</td>\n",
              "    </tr>\n",
              "  </tbody>\n",
              "</table>\n",
              "</div>"
            ],
            "text/plain": [
              "     iso_code      continent  ... hospital_beds_per_thousand life_expectancy\n",
              "4415      BRA  South America  ...                        2.2           75.88\n",
              "\n",
              "[1 rows x 34 columns]"
            ]
          },
          "metadata": {
            "tags": []
          },
          "execution_count": 93
        }
      ]
    },
    {
      "cell_type": "markdown",
      "metadata": {
        "id": "GPaU5bfwR4nH",
        "colab_type": "text"
      },
      "source": [
        "E o primeiro registro de óbito aconteceu em 18 de março de 2020.\n",
        "\n",
        "* **Observação:** [Notícia](https://g1.globo.com/bemestar/coronavirus/noticia/2020/04/02/ministerio-da-saude-diz-que-primeiro-caso-de-coronavirus-no-brasil-foi-identificado-no-fim-de-janeiro.ghtml) mais recentes destaca que a primeira morte, na verdade, ocorreu em 23 de janeiro, em Minas Gerais. De acordo com o Ministério da Saúde, a descoberta é resultado de uma \"investigação retrospectiva\" dos pacientes internados com quadros de síndrome respiratória aguda grave."
      ]
    },
    {
      "cell_type": "markdown",
      "metadata": {
        "id": "JAolpusqXQrj",
        "colab_type": "text"
      },
      "source": [
        "### Curva de crescimento da doença\n",
        "\n",
        "Neste gráfico apresentaremos a comparação da curva de crescimento de óbitos no Brasil e no mundo, desde o primeiro caso até o mais recente (30-07-2020).\n"
      ]
    },
    {
      "cell_type": "code",
      "metadata": {
        "id": "rUz7hMNjJNWm",
        "colab_type": "code",
        "colab": {
          "base_uri": "https://localhost:8080/",
          "height": 441
        },
        "outputId": "805242b5-544d-41fb-bf49-54314576b334"
      },
      "source": [
        "df_brasil_deaths = df[(df['location'] == 'Brazil') & (df['total_deaths'] > 0)]\n",
        "\n",
        "sns.set_style('white')\n",
        "fig, ax = plt.subplots(figsize=(10,6))\n",
        "\n",
        "ax.plot(df3['date'], df3['total_deaths'], marker='o', linewidth=3, markersize=12, markeredgecolor='w', markeredgewidth=0.5, markevery=[-1])\n",
        "ax.plot(df_brasil_deaths['date'], df_brasil_deaths['total_deaths'], marker='o', color='r', linewidth=3, markersize=12, markeredgecolor='w', markeredgewidth=0.5, markevery=[-1])\n",
        "\n",
        "sns.despine()\n",
        "ax.set_yscale('linear')\n",
        "ax.set_title('Total de óbitos - World x Brasil', alpha=0.7)\n",
        "ax.legend(labels=('World', 'Brasil'))\n",
        "\n",
        "plt.tight_layout()\n",
        "plt.show()"
      ],
      "execution_count": 121,
      "outputs": [
        {
          "output_type": "display_data",
          "data": {
            "image/png": "[encoded data removed]",
            "text/plain": [
              "<Figure size 720x432 with 1 Axes>"
            ]
          },
          "metadata": {
            "tags": []
          }
        }
      ]
    },
    {
      "cell_type": "markdown",
      "metadata": {
        "id": "ZUnFolMk_DiF",
        "colab_type": "text"
      },
      "source": [
        "### Gráfico de total de casos e óbitos"
      ]
    },
    {
      "cell_type": "code",
      "metadata": {
        "id": "zfk3c2wV-dhN",
        "colab_type": "code",
        "colab": {}
      },
      "source": [
        "# Atribuir df contando a partir do primeiro caso a uma nova variavel\n",
        "\n",
        "df_brd = df_br.loc[df_br.total_deaths != 0.0].sort_values(by='total_deaths').reset_index(drop=True)\n",
        "df_brc = df_br.loc[df_br.total_cases != 0.0].sort_values(by='total_cases').reset_index(drop=True)"
      ],
      "execution_count": 95,
      "outputs": []
    },
    {
      "cell_type": "code",
      "metadata": {
        "id": "BumAdOKbNa3j",
        "colab_type": "code",
        "colab": {
          "base_uri": "https://localhost:8080/",
          "height": 441
        },
        "outputId": "a64258cd-841c-496e-965d-68aeae08a0f8"
      },
      "source": [
        "df_brasil = df[(df['location'] == 'Brazil') & (df['total_cases'] > 0)]\n",
        "df_brasil2 = df[(df['location'] == 'Brazil') & (df['total_deaths'] > 0)]\n",
        "\n",
        "sns.set_style('white')\n",
        "fig, ax = plt.subplots(figsize=(10,6))\n",
        "\n",
        "ax.plot(df_brasil['date'], df_brasil['total_cases'], marker='o', linewidth=3, markersize=12, markeredgecolor='w', markeredgewidth=0.5, markevery=[-1])\n",
        "ax.plot(df_brasil2['date'], df_brasil2['total_deaths'], marker='o', color='r', linewidth=3, markersize=12, markeredgecolor='w', markeredgewidth=0.5, markevery=[-1])\n",
        "\n",
        "sns.despine()\n",
        "ax.set_yscale('log')\n",
        "ax.set_title('Casos x Óbitos - Brasil - Log Scale', alpha=0.7)\n",
        "\n",
        "#ax.ticklabel_format(axis='y', style='plain')\n",
        "#ax.xaxis.set_major_locator(mticker.LinearLocator(7))\n",
        "#ax.set_xticklabels(labels)\n",
        "\n",
        " \n",
        "plt.tight_layout()\n",
        "plt.show()"
      ],
      "execution_count": 111,
      "outputs": [
        {
          "output_type": "display_data",
          "data": {
            "image/png": "[encoded data removed]",
            "text/plain": [
              "<Figure size 720x432 with 1 Axes>"
            ]
          },
          "metadata": {
            "tags": []
          }
        }
      ]
    },
    {
      "cell_type": "code",
      "metadata": {
        "id": "YhGlTYQI0N3r",
        "colab_type": "code",
        "colab": {
          "base_uri": "https://localhost:8080/",
          "height": 491
        },
        "outputId": "1630370c-2c96-4dd1-c84d-d06bc9fac7bd"
      },
      "source": [
        "# Plotar o gráfico\n",
        "sns.set_style('white')\n",
        "\n",
        "fig, ax = plt.subplots(figsize=(10,8))\n",
        "\n",
        "sns.lineplot('date', 'total_cases', data=df_brc, marker='o', linewidth=3, markersize=12, markeredgecolor='w', markeredgewidth=0.5, markevery=[-1])\n",
        "sns.lineplot('date', 'total_deaths', data=df_brd, color='r', marker='o', linewidth=3, markersize=12, markeredgecolor='w', markeredgewidth=0.5, markevery=[-1])\n",
        "\n",
        "ax.set_title('Casos x Óbitos no Brasil', size=15)\n",
        "ax.set_xlabel(' ')\n",
        "ax.set_ylabel('Casos em milhões')\n",
        "ax.legend(labels=('Casos', 'Óbitos'))\n",
        "\n",
        "sns.despine()\n",
        "\n",
        "fig.autofmt_xdate()\n",
        "fig.show()\n"
      ],
      "execution_count": 118,
      "outputs": [
        {
          "output_type": "display_data",
          "data": {
            "image/png": "[encoded data removed]",
            "text/plain": [
              "<Figure size 720x576 with 1 Axes>"
            ]
          },
          "metadata": {
            "tags": []
          }
        }
      ]
    },
    {
      "cell_type": "markdown",
      "metadata": {
        "id": "ikwbPB_xkdpc",
        "colab_type": "text"
      },
      "source": [
        "Podemos observar por este gráfico que apesar da quantidade de casos estar numa crescente acentuada, por enquanto os caos fatais, apesar de também aumentarem, não acompanham na mesma proporção a quantidade de novos casos."
      ]
    },
    {
      "cell_type": "markdown",
      "metadata": {
        "id": "o5UtDMow_hMA",
        "colab_type": "text"
      },
      "source": [
        "### Porcentagem de casos e óbitos brasileiros perante o mundo\n"
      ]
    },
    {
      "cell_type": "code",
      "metadata": {
        "id": "2rutD-Px7Zca",
        "colab_type": "code",
        "colab": {
          "base_uri": "https://localhost:8080/",
          "height": 80
        },
        "outputId": "59f1847d-1e30-4b5b-d1a6-8b5761f7a7d6"
      },
      "source": [
        "# Apresentar quantidade de óbitos e total de casos no Brasil\n",
        "df_br.loc[df_br.date == '2020-07-30', ['location', 'total_deaths', 'total_cases']]      "
      ],
      "execution_count": 133,
      "outputs": [
        {
          "output_type": "execute_result",
          "data": {
            "text/html": [
              "<div>\n",
              "<style scoped>\n",
              "    .dataframe tbody tr th:only-of-type {\n",
              "        vertical-align: middle;\n",
              "    }\n",
              "\n",
              "    .dataframe tbody tr th {\n",
              "        vertical-align: top;\n",
              "    }\n",
              "\n",
              "    .dataframe thead th {\n",
              "        text-align: right;\n",
              "    }\n",
              "</style>\n",
              "<table border=\"1\" class=\"dataframe\">\n",
              "  <thead>\n",
              "    <tr style=\"text-align: right;\">\n",
              "      <th></th>\n",
              "      <th>location</th>\n",
              "      <th>total_deaths</th>\n",
              "      <th>total_cases</th>\n",
              "    </tr>\n",
              "  </thead>\n",
              "  <tbody>\n",
              "    <tr>\n",
              "      <th>4549</th>\n",
              "      <td>Brazil</td>\n",
              "      <td>90134.0</td>\n",
              "      <td>2552265.0</td>\n",
              "    </tr>\n",
              "  </tbody>\n",
              "</table>\n",
              "</div>"
            ],
            "text/plain": [
              "     location  total_deaths  total_cases\n",
              "4549   Brazil       90134.0    2552265.0"
            ]
          },
          "metadata": {
            "tags": []
          },
          "execution_count": 133
        }
      ]
    },
    {
      "cell_type": "code",
      "metadata": {
        "id": "flZ6B3zt_uKm",
        "colab_type": "code",
        "colab": {
          "base_uri": "https://localhost:8080/",
          "height": 80
        },
        "outputId": "5cc89c94-5ff0-496e-a55b-ad179d0db1a6"
      },
      "source": [
        "# Apresentar quantidade de óbitos e total de casos no Mundo\n",
        "df.loc[df.date == '2020-07-30',\n",
        "       ['location', 'total_deaths', \n",
        "        'total_cases']].sort_values(by='total_deaths', ascending=False)[:1]"
      ],
      "execution_count": 132,
      "outputs": [
        {
          "output_type": "execute_result",
          "data": {
            "text/html": [
              "<div>\n",
              "<style scoped>\n",
              "    .dataframe tbody tr th:only-of-type {\n",
              "        vertical-align: middle;\n",
              "    }\n",
              "\n",
              "    .dataframe tbody tr th {\n",
              "        vertical-align: top;\n",
              "    }\n",
              "\n",
              "    .dataframe thead th {\n",
              "        text-align: right;\n",
              "    }\n",
              "</style>\n",
              "<table border=\"1\" class=\"dataframe\">\n",
              "  <thead>\n",
              "    <tr style=\"text-align: right;\">\n",
              "      <th></th>\n",
              "      <th>location</th>\n",
              "      <th>total_deaths</th>\n",
              "      <th>total_cases</th>\n",
              "    </tr>\n",
              "  </thead>\n",
              "  <tbody>\n",
              "    <tr>\n",
              "      <th>33562</th>\n",
              "      <td>World</td>\n",
              "      <td>666857.0</td>\n",
              "      <td>17005983.0</td>\n",
              "    </tr>\n",
              "  </tbody>\n",
              "</table>\n",
              "</div>"
            ],
            "text/plain": [
              "      location  total_deaths  total_cases\n",
              "33562    World      666857.0   17005983.0"
            ]
          },
          "metadata": {
            "tags": []
          },
          "execution_count": 132
        }
      ]
    },
    {
      "cell_type": "markdown",
      "metadata": {
        "id": "9oanlHBsxYRR",
        "colab_type": "text"
      },
      "source": [
        "* O mundo tem hoje a triste marca de 666.857 casos fatais do novo corona vírus. \n",
        "\n",
        "* O Brasil registra cerca de 13% dessas mortes, contabilizando 90.134 até a data da divulgação dessa análise.\n",
        "\n",
        "* O Brasil registra cerca de 15% dos mais de 17 milhões casos em todo o mundo.\n",
        "\n",
        "* A porcentagem de mortes pela quantidade de pessoas que são infectadas no Brasil é de 3,5%\n",
        "\n",
        "* A porcentagem de mortes pela quantidade de pessoas que são infectadas no Mundo é de 3,9%"
      ]
    },
    {
      "cell_type": "markdown",
      "metadata": {
        "id": "I4--s70SZjhv",
        "colab_type": "text"
      },
      "source": [
        "### Comparação Brasil x EUA\n",
        "\n",
        "Aqui plotamos um gráfico que compara os EUA e o Brasil, respectivamente, primeiro e segundo colocados no número de óbitos pelo COVID-19.\n",
        "\n"
      ]
    },
    {
      "cell_type": "code",
      "metadata": {
        "id": "m3gSI82dX0zw",
        "colab_type": "code",
        "colab": {
          "base_uri": "https://localhost:8080/",
          "height": 441
        },
        "outputId": "9159f3a4-991b-4fe4-87fc-18e7fa997c49"
      },
      "source": [
        "deaths_brasil = df[(df['location'] == 'Brazil') & (df['total_deaths'] > 0)]\n",
        "deaths_usa = df[(df['location'] == 'United States') & (df['total_deaths'] > 0)]\n",
        "\n",
        "sns.set_style('white')\n",
        "\n",
        "fig, ax = plt.subplots(figsize=(10,6))\n",
        "\n",
        "ax.plot(deaths_brasil.date, deaths_brasil.total_deaths, marker='o', linewidth=3, markersize=12, markeredgecolor='w', markeredgewidth=0.5, markevery=[-1], color='g' )\n",
        "ax.plot(deaths_usa['date'], deaths_usa['total_deaths'], marker='o', linewidth=3, markersize=12, markeredgecolor='w', markeredgewidth=0.5, markevery=[-1], color='b')\n",
        "\n",
        "sns.despine()\n",
        "ax.set_yscale('linear')\n",
        "ax.set_title('Total de óbitos - EUA x Brasil', alpha=0.7)\n",
        "ax.xaxis.set_major_locator(mticker.LinearLocator(8))\n",
        "ax.set_xticklabels(labels)\n",
        "ax.legend(labels=('Brasil', 'EUA'))\n",
        "\n",
        "plt.tight_layout()\n",
        "plt.show()"
      ],
      "execution_count": 128,
      "outputs": [
        {
          "output_type": "display_data",
          "data": {
            "image/png": "[encoded data removed]",
            "text/plain": [
              "<Figure size 720x432 with 1 Axes>"
            ]
          },
          "metadata": {
            "tags": []
          }
        }
      ]
    },
    {
      "cell_type": "markdown",
      "metadata": {
        "id": "CU_fi_EcabjE",
        "colab_type": "text"
      },
      "source": [
        "Com esse gráfio é possível notar que a curva de crescimento nos EUA está numa tendência de estabilização de pico e no Brasil a curva ainda está numa crecente."
      ]
    },
    {
      "cell_type": "markdown",
      "metadata": {
        "id": "x4YlVK5cvdj7",
        "colab_type": "text"
      },
      "source": [
        "### Comparação Brasil x India\n",
        "\n",
        "Aqui plotamos um gráfico que compara Brasil com a India, um páis emergente como o nosso, mas de população 6 vezes maior. \n",
        "Apesar dessa diferença de habitantes, a India conta hoje com apenas 1/3 do total de mortes do Brasil.\n",
        "\n",
        "* A escala no eixo x encontra-se em dias.\n",
        "* No gráfico, o Brasil é representado pela linha na cor azul e a India é representada pela linha na cor laranja.\n",
        "\n"
      ]
    },
    {
      "cell_type": "code",
      "metadata": {
        "id": "UKDc3kUO4EkJ",
        "colab_type": "code",
        "colab": {
          "base_uri": "https://localhost:8080/",
          "height": 80
        },
        "outputId": "13fd59dd-2038-4861-848f-6b6fb8ab092b"
      },
      "source": [
        "# Apresentar população da India\n",
        "df.loc[df.location == 'India', ['location','population']].sort_values(by='population')[:1]"
      ],
      "execution_count": 101,
      "outputs": [
        {
          "output_type": "execute_result",
          "data": {
            "text/html": [
              "<div>\n",
              "<style scoped>\n",
              "    .dataframe tbody tr th:only-of-type {\n",
              "        vertical-align: middle;\n",
              "    }\n",
              "\n",
              "    .dataframe tbody tr th {\n",
              "        vertical-align: top;\n",
              "    }\n",
              "\n",
              "    .dataframe thead th {\n",
              "        text-align: right;\n",
              "    }\n",
              "</style>\n",
              "<table border=\"1\" class=\"dataframe\">\n",
              "  <thead>\n",
              "    <tr style=\"text-align: right;\">\n",
              "      <th></th>\n",
              "      <th>location</th>\n",
              "      <th>population</th>\n",
              "    </tr>\n",
              "  </thead>\n",
              "  <tbody>\n",
              "    <tr>\n",
              "      <th>14082</th>\n",
              "      <td>India</td>\n",
              "      <td>1.380004e+09</td>\n",
              "    </tr>\n",
              "  </tbody>\n",
              "</table>\n",
              "</div>"
            ],
            "text/plain": [
              "      location    population\n",
              "14082    India  1.380004e+09"
            ]
          },
          "metadata": {
            "tags": []
          },
          "execution_count": 101
        }
      ]
    },
    {
      "cell_type": "code",
      "metadata": {
        "id": "DG7qhb-BKhMa",
        "colab_type": "code",
        "colab": {
          "base_uri": "https://localhost:8080/",
          "height": 441
        },
        "outputId": "4cc2fd40-e34d-43b5-9fc8-7db11a7e945f"
      },
      "source": [
        "deaths_brasil = df[(df['location'] == 'Brazil') & (df['total_deaths'] > 0)]\n",
        "deaths_india = df[(df['location'] == 'India') & (df['total_deaths'] > 0)]\n",
        "\n",
        "sns.set_style('white')\n",
        "\n",
        "fig, ax = plt.subplots(figsize=(10,6))\n",
        "\n",
        "ax.plot(deaths_brasil.date, deaths_brasil.total_deaths, marker='o', linewidth=3, markersize=12, markeredgecolor='w', markeredgewidth=0.5, markevery=[-1], color='g' )\n",
        "ax.plot(deaths_india['date'], deaths_india['total_deaths'], marker='o', linewidth=3, markersize=12, markeredgecolor='w', markeredgewidth=0.5, markevery=[-1], color='orange')\n",
        "\n",
        "sns.despine()\n",
        "ax.set_yscale('linear')\n",
        "ax.set_title('Total de óbitos - Brasil x India', alpha=0.7)\n",
        "ax.xaxis.set_major_locator(mticker.LinearLocator(8))\n",
        "ax.set_xticklabels(labels)\n",
        "ax.legend(labels=('Brasil', 'Índia'))\n",
        "\n",
        "plt.tight_layout()\n",
        "plt.show()\n"
      ],
      "execution_count": 126,
      "outputs": [
        {
          "output_type": "display_data",
          "data": {
            "image/png": "[encoded data removed]",
            "text/plain": [
              "<Figure size 720x432 with 1 Axes>"
            ]
          },
          "metadata": {
            "tags": []
          }
        }
      ]
    },
    {
      "cell_type": "markdown",
      "metadata": {
        "id": "E0l7GcWOyQMY",
        "colab_type": "text"
      },
      "source": [
        "# Conclusão\n",
        "\n",
        "Este mês de junho o corona vírus completa 5 meses desde o primeiro caso oficialmente registrado em nosso país.\n",
        "Com este estudo conseguimos reunir algumas informações importantes a respeito do avanço do vírus, não só aqui, mas no mundo todo.\n",
        "\n",
        "Em Resumo:\n",
        "* Temos hoje registrados 17.005.983 milhões de casos, sendo 2.552.265 aqui no Brasil, cerca de 15% do total\n",
        "* Temos registrados também 666.857 óbitos em virtude do vírus, sendo 90.134 deles no Brasil, cerca de 13% do total.\n",
        "* Os Estados Unidos contam com o maior número de casos, 4.426.982 milhões, e maior número de óbitos 150.713 mil.\n",
        "* O Brasil é o segundo país em número de casos e mortes no mundo todo.\n",
        "* A curva de crescimento nos casos no mundo mantem-se em atenuada ascensão, desde os primeiros 90 dias do primeiro caso registrado, quando foi registrado oficialmente pela OMS como uma pandemia.\n",
        "* Apesar das medidas de término gradual da quarentena no Brasil, pelos dados nota-se que não há indício de retração na curva de casos e óbitos, pelo contrário, é evidente a tendência de crescimento.\n",
        "* O Brasil tem hoje 6 vezes menos habitantes que outro país emergente, a Índia, mas em contrapartida, possui 3 vezes mais óbitos.\n",
        "* Um dado positivo tirado desta análise é que: a porcentagem de óbitos perante os infectados aqui no Brasil é ligeiramente menor que na contagem mundial: 3,5% contra 3,9%."
      ]
    }
  ]
}
