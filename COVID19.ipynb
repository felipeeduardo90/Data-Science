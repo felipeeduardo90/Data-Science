{
  "nbformat": 4,
  "nbformat_minor": 0,
  "metadata": {
    "colab": {
      "name": "COVID19.ipynb",
      "provenance": [],
      "collapsed_sections": [],
      "toc_visible": true,
      "authorship_tag": "ABX9TyPlPrfvK87K2ZNgCdlv1mkb",
      "include_colab_link": true
    },
    "kernelspec": {
      "name": "python3",
      "display_name": "Python 3"
    }
  },
  "cells": [
    {
      "cell_type": "markdown",
      "metadata": {
        "id": "view-in-github",
        "colab_type": "text"
      },
      "source": [
        "<a href=\"https://colab.research.google.com/github/felipeeduardo90/Data-Science/blob/master/COVID19.ipynb\" target=\"_parent\"><img src=\"https://colab.research.google.com/assets/colab-badge.svg\" alt=\"Open In Colab\"/></a>"
      ]
    },
    {
      "cell_type": "markdown",
      "metadata": {
        "id": "6o__trRAoskJ",
        "colab_type": "text"
      },
      "source": [
        "![](https://raw.githubusercontent.com/felipeeduardo90/Data-Science/master/datatemplate2.png)\n",
        "\n",
        "\n",
        "[Github](https://github.com/felipeeduardo90)\n",
        "[Linkedin](https://www.linkedin.com/in/felipe-eduardo-franco-b3a05b186/)\n",
        "\n",
        "---\n",
        "\n",
        "\n",
        "\n",
        "\n"
      ]
    },
    {
      "cell_type": "markdown",
      "metadata": {
        "id": "dBLM1PldrKSj",
        "colab_type": "text"
      },
      "source": [
        "# Panorama do COVID-19 no Brasil\n",
        "\n",
        "Este projeto abordará uma análise do panorama do COVID-19 no Brasil e no Mundo. A pandemia dessa doença contagiosa mudou a rotina das pessoas ao redor do globo, provocando períodos extensos de reclusão para evitar sua disseminação, o que causou grande impacto na economia mundial e exigiu medidas drásticas dos líderes de Estado e da população para administrar essa situação . Mas o dado mais triste fica por conta das milhões de pessoas que foram infectadas com a doença e das centenas de milhares que vieram a óbito deivo as complicações acarretedas por ela.\n",
        "\n",
        "![](https://raw.githubusercontent.com/felipeeduardo90/template_portfolio/master/733.jpg)\n",
        "\n",
        "[image rights](https://br.freepik.com/fotos-vetores-gratis/fundo)\n",
        "\n",
        "\n"
      ]
    },
    {
      "cell_type": "markdown",
      "metadata": {
        "id": "zBywuHLQsiVc",
        "colab_type": "text"
      },
      "source": [
        "## O que é COVID-19\n",
        "\n",
        "A **COVID-19**, segundo o [Ministério da Saúde](https://coronavirus.saude.gov.br/sobre-a-doenca), é uma doença causada pelo coronavírus SARS-CoV-2, que apresenta um quadro clínico que varia de infecções assintomáticas a quadros respiratórios graves. De acordo com a Organização Mundial de Saúde (OMS), a maioria dos pacientes com COVID-19 (cerca de 80%) podem ser assintomáticos e cerca de 20% dos casos podem requerer atendimento hospitalar por apresentarem dificuldade respiratória e desses casos aproximadamente 5% podem necessitar de suporte para o tratamento de insuficiência respiratória.\n"
      ]
    },
    {
      "cell_type": "markdown",
      "metadata": {
        "id": "XRBfE7xAuwVO",
        "colab_type": "text"
      },
      "source": [
        "### Como é transmitido\n",
        "\n",
        "A transmissão acontece de uma pessoa doente para outra ou por contato próximo por meio de: Toque do aperto de mão, gotículas de saliva, espirro, tosse, catarro e objetos ou superfícies contaminadas. \n",
        "\n",
        "---\n",
        "\n"
      ]
    },
    {
      "cell_type": "markdown",
      "metadata": {
        "id": "rgAlUmcU0Gad",
        "colab_type": "text"
      },
      "source": [
        "Com o objetivo de elevar a consciência situacional a respeito do COVID-19 no Brasil, irei realizar uma análise sobre os dados públicos da doença"
      ]
    },
    {
      "cell_type": "markdown",
      "metadata": {
        "id": "WcvjVUhP0Urw",
        "colab_type": "text"
      },
      "source": [
        "# Obtenção dos dados\n",
        "\n",
        "Os dados para essa análise serão obtidos através do repositório do Github da [Our World In Data](https://ourworldindata.org/coronavirus-data), organização internacional sem fins lucrativos de pesquisa e obtenção de dados.\n",
        "\n",
        "Existe muita controvérsia a respeito da obtenção dos dados reais da contaminação do COVID-19. Por um período o governo brasileiro, por exemplo, chegou a omitir a divulgação dos mesmo, causando grande repercussão, inclusive internacional.\n",
        "Encontramos, além disso, dados divergentes entre os apresentados pelas secretarias estaduais e o Ministério da Saúde, o que torna muito complicado obter uma fonte que inspire confiança dentro do nosso país atualmente.\n",
        "\n",
        "Decidi então, usar uma base de dados internacional, para garantir isenção de viéses tanto da minha parte, quanto à quem interessar este projeto.\n",
        "\n",
        "### Dicionário de Variáveis\n",
        "\n",
        "Apresentarei o [dicionário das variáveis](https://github.com/owid/covid-19-data/blob/master/public/data/owid-covid-data-codebook.md) do nosso banco de dados.\n",
        "\n",
        "* ***iso_code*** -\tcódigo da federação\n",
        "* ***continent*** -\tcontinente da localização geográfica\n",
        "* ***location*** -\tlocalização geográfica\n",
        "* ***date*** -\tdata de observação\n",
        "* ***total_cases*** -\ttotal de casos confirmados\n",
        "* ***new_cases***\t- novos casos confirmados\n",
        "* ***total_deaths***\t- total de mortes atribuídas ao COVID-19\n",
        "* ***new_deaths***\t- novas mortes atribuídas ao COVID-19\n",
        "* ***total_cases_per_million***\t- total de casos confirmados de  COVID-19 por 1,000,000 pessoas\n",
        "* ***new_cases_per_million***\t- novos casos confirmados de  COVID-19 por 1,000,000 pessoas\n",
        "* ***total_deaths_per_million*** - total de mortes confirmadas de  COVID-19 por 1,000,000 pessoas\n",
        "* ***new_deaths_per_million***\t- novas mortes confirmadas de  COVID-19 por 1,000,000 pessoas\n",
        "* ***total_tests*** - total de testes para COVID-19\n",
        "* ***new_tests***\t- novos testes para COVID-19\n",
        "* ***new_tests_smoothed*** - \tnovos testes para COVID-19 (últimos 7 dias)\n",
        "* ***total_tests_per_thousand*** - total de testes por 1,000 pessoas\n",
        "* ***new_tests_per_thousand***\t- novos teste por 1,000 pessoas\n",
        "* ***new_tests_smoothed_per_thousand***\t- novos testes por 1,000 pessoas (últimos 7 dias)\n",
        "* ***tests_units***\t- unidades de testes por localização\n",
        "* ***stringency_index***\t- medição baseada em 9 indicadores governamentais (0 a 100)\n",
        "* ***population***\t- população em 2020\n",
        "* ***population_density***\t- densidade populacional (população divida pela área habitada)\n",
        "* ***median_age***\t- mediana da idade da população\n",
        "* ***aged_65_older***\t- população com mais de 65 anos\n",
        "* ***aged_70_older***\t- população com mais de 70 anos\n",
        "* ***gdp_per_capita***\t- PIB per capita\n",
        "* ***extreme_poverty***\t- populaçao em extrema pobreza\n",
        "* ***cvd_death_rate***\t- taxa de mortalidade por doença cardiovascular\n",
        "* ***diabetes_prevalence***\t- porcentagem de população diabética(20 a 79 anos)\n",
        "* ***female_smokers*** - mulheres fumantes\n",
        "* ***male_smokers***\t- homens fumantes\n",
        "* ***handwashing_facilities***\t- parcela da população com acesso a higiênização das mãos\n",
        "* ***hospital_beds_per_thousand***\t- leitos de hospitais por 1,000 pessoas\n",
        "* ***life_expectancy***\t- expectativa de vida\n",
        "\n",
        "\n",
        "### Importando os dados do COVID-19\n",
        "\n",
        "\n"
      ]
    },
    {
      "cell_type": "code",
      "metadata": {
        "id": "lKflr2851rHB",
        "colab_type": "code",
        "colab": {
          "base_uri": "https://localhost:8080/",
          "height": 71
        },
        "outputId": "e3dc286e-f6c7-4561-e938-df5fe6a0c636"
      },
      "source": [
        "# Importar pacotes necessários\n",
        "import pandas as pd\n",
        "import numpy as np\n",
        "import matplotlib.pyplot as plt\n",
        "import seaborn as sns\n",
        "%matplotlib inline"
      ],
      "execution_count": 1,
      "outputs": [
        {
          "output_type": "stream",
          "text": [
            "/usr/local/lib/python3.6/dist-packages/statsmodels/tools/_testing.py:19: FutureWarning: pandas.util.testing is deprecated. Use the functions in the public API at pandas.testing instead.\n",
            "  import pandas.util.testing as tm\n"
          ],
          "name": "stderr"
        }
      ]
    },
    {
      "cell_type": "code",
      "metadata": {
        "id": "Y9qQT-vk9UxM",
        "colab_type": "code",
        "colab": {}
      },
      "source": [
        "# Importar o dataset para um DataFrame\n",
        "df = pd.read_csv(\"https://raw.githubusercontent.com/owid/covid-19-data/master/public/data/owid-covid-data.csv\")"
      ],
      "execution_count": 2,
      "outputs": []
    },
    {
      "cell_type": "markdown",
      "metadata": {
        "id": "F_FoXtMV-X03",
        "colab_type": "text"
      },
      "source": [
        "# Análise Exploratória dos Dados\n",
        "\n",
        "Inicialmente iremos conhecer um pouco mais os dados que temos disponíveis para futuro aprofundamento na análise.\n",
        "\n",
        "Visualizando as cinco primeiras entradas é possível ter uma boa ideia de como está disposta a tabela."
      ]
    },
    {
      "cell_type": "code",
      "metadata": {
        "id": "xY46whF8-AgH",
        "colab_type": "code",
        "colab": {
          "base_uri": "https://localhost:8080/",
          "height": 309
        },
        "outputId": "e1cbe3b9-6348-4351-b053-84573584ffbb"
      },
      "source": [
        "df.head()"
      ],
      "execution_count": 3,
      "outputs": [
        {
          "output_type": "execute_result",
          "data": {
            "text/html": [
              "<div>\n",
              "<style scoped>\n",
              "    .dataframe tbody tr th:only-of-type {\n",
              "        vertical-align: middle;\n",
              "    }\n",
              "\n",
              "    .dataframe tbody tr th {\n",
              "        vertical-align: top;\n",
              "    }\n",
              "\n",
              "    .dataframe thead th {\n",
              "        text-align: right;\n",
              "    }\n",
              "</style>\n",
              "<table border=\"1\" class=\"dataframe\">\n",
              "  <thead>\n",
              "    <tr style=\"text-align: right;\">\n",
              "      <th></th>\n",
              "      <th>iso_code</th>\n",
              "      <th>continent</th>\n",
              "      <th>location</th>\n",
              "      <th>date</th>\n",
              "      <th>total_cases</th>\n",
              "      <th>new_cases</th>\n",
              "      <th>total_deaths</th>\n",
              "      <th>new_deaths</th>\n",
              "      <th>total_cases_per_million</th>\n",
              "      <th>new_cases_per_million</th>\n",
              "      <th>total_deaths_per_million</th>\n",
              "      <th>new_deaths_per_million</th>\n",
              "      <th>total_tests</th>\n",
              "      <th>new_tests</th>\n",
              "      <th>total_tests_per_thousand</th>\n",
              "      <th>new_tests_per_thousand</th>\n",
              "      <th>new_tests_smoothed</th>\n",
              "      <th>new_tests_smoothed_per_thousand</th>\n",
              "      <th>tests_units</th>\n",
              "      <th>stringency_index</th>\n",
              "      <th>population</th>\n",
              "      <th>population_density</th>\n",
              "      <th>median_age</th>\n",
              "      <th>aged_65_older</th>\n",
              "      <th>aged_70_older</th>\n",
              "      <th>gdp_per_capita</th>\n",
              "      <th>extreme_poverty</th>\n",
              "      <th>cvd_death_rate</th>\n",
              "      <th>diabetes_prevalence</th>\n",
              "      <th>female_smokers</th>\n",
              "      <th>male_smokers</th>\n",
              "      <th>handwashing_facilities</th>\n",
              "      <th>hospital_beds_per_thousand</th>\n",
              "      <th>life_expectancy</th>\n",
              "    </tr>\n",
              "  </thead>\n",
              "  <tbody>\n",
              "    <tr>\n",
              "      <th>0</th>\n",
              "      <td>AFG</td>\n",
              "      <td>Asia</td>\n",
              "      <td>Afghanistan</td>\n",
              "      <td>2019-12-31</td>\n",
              "      <td>0.0</td>\n",
              "      <td>0.0</td>\n",
              "      <td>0.0</td>\n",
              "      <td>0.0</td>\n",
              "      <td>0.0</td>\n",
              "      <td>0.0</td>\n",
              "      <td>0.0</td>\n",
              "      <td>0.0</td>\n",
              "      <td>NaN</td>\n",
              "      <td>NaN</td>\n",
              "      <td>NaN</td>\n",
              "      <td>NaN</td>\n",
              "      <td>NaN</td>\n",
              "      <td>NaN</td>\n",
              "      <td>NaN</td>\n",
              "      <td>NaN</td>\n",
              "      <td>38928341.0</td>\n",
              "      <td>54.422</td>\n",
              "      <td>18.6</td>\n",
              "      <td>2.581</td>\n",
              "      <td>1.337</td>\n",
              "      <td>1803.987</td>\n",
              "      <td>NaN</td>\n",
              "      <td>597.029</td>\n",
              "      <td>9.59</td>\n",
              "      <td>NaN</td>\n",
              "      <td>NaN</td>\n",
              "      <td>37.746</td>\n",
              "      <td>0.5</td>\n",
              "      <td>64.83</td>\n",
              "    </tr>\n",
              "    <tr>\n",
              "      <th>1</th>\n",
              "      <td>AFG</td>\n",
              "      <td>Asia</td>\n",
              "      <td>Afghanistan</td>\n",
              "      <td>2020-01-01</td>\n",
              "      <td>0.0</td>\n",
              "      <td>0.0</td>\n",
              "      <td>0.0</td>\n",
              "      <td>0.0</td>\n",
              "      <td>0.0</td>\n",
              "      <td>0.0</td>\n",
              "      <td>0.0</td>\n",
              "      <td>0.0</td>\n",
              "      <td>NaN</td>\n",
              "      <td>NaN</td>\n",
              "      <td>NaN</td>\n",
              "      <td>NaN</td>\n",
              "      <td>NaN</td>\n",
              "      <td>NaN</td>\n",
              "      <td>NaN</td>\n",
              "      <td>0.0</td>\n",
              "      <td>38928341.0</td>\n",
              "      <td>54.422</td>\n",
              "      <td>18.6</td>\n",
              "      <td>2.581</td>\n",
              "      <td>1.337</td>\n",
              "      <td>1803.987</td>\n",
              "      <td>NaN</td>\n",
              "      <td>597.029</td>\n",
              "      <td>9.59</td>\n",
              "      <td>NaN</td>\n",
              "      <td>NaN</td>\n",
              "      <td>37.746</td>\n",
              "      <td>0.5</td>\n",
              "      <td>64.83</td>\n",
              "    </tr>\n",
              "    <tr>\n",
              "      <th>2</th>\n",
              "      <td>AFG</td>\n",
              "      <td>Asia</td>\n",
              "      <td>Afghanistan</td>\n",
              "      <td>2020-01-02</td>\n",
              "      <td>0.0</td>\n",
              "      <td>0.0</td>\n",
              "      <td>0.0</td>\n",
              "      <td>0.0</td>\n",
              "      <td>0.0</td>\n",
              "      <td>0.0</td>\n",
              "      <td>0.0</td>\n",
              "      <td>0.0</td>\n",
              "      <td>NaN</td>\n",
              "      <td>NaN</td>\n",
              "      <td>NaN</td>\n",
              "      <td>NaN</td>\n",
              "      <td>NaN</td>\n",
              "      <td>NaN</td>\n",
              "      <td>NaN</td>\n",
              "      <td>0.0</td>\n",
              "      <td>38928341.0</td>\n",
              "      <td>54.422</td>\n",
              "      <td>18.6</td>\n",
              "      <td>2.581</td>\n",
              "      <td>1.337</td>\n",
              "      <td>1803.987</td>\n",
              "      <td>NaN</td>\n",
              "      <td>597.029</td>\n",
              "      <td>9.59</td>\n",
              "      <td>NaN</td>\n",
              "      <td>NaN</td>\n",
              "      <td>37.746</td>\n",
              "      <td>0.5</td>\n",
              "      <td>64.83</td>\n",
              "    </tr>\n",
              "    <tr>\n",
              "      <th>3</th>\n",
              "      <td>AFG</td>\n",
              "      <td>Asia</td>\n",
              "      <td>Afghanistan</td>\n",
              "      <td>2020-01-03</td>\n",
              "      <td>0.0</td>\n",
              "      <td>0.0</td>\n",
              "      <td>0.0</td>\n",
              "      <td>0.0</td>\n",
              "      <td>0.0</td>\n",
              "      <td>0.0</td>\n",
              "      <td>0.0</td>\n",
              "      <td>0.0</td>\n",
              "      <td>NaN</td>\n",
              "      <td>NaN</td>\n",
              "      <td>NaN</td>\n",
              "      <td>NaN</td>\n",
              "      <td>NaN</td>\n",
              "      <td>NaN</td>\n",
              "      <td>NaN</td>\n",
              "      <td>0.0</td>\n",
              "      <td>38928341.0</td>\n",
              "      <td>54.422</td>\n",
              "      <td>18.6</td>\n",
              "      <td>2.581</td>\n",
              "      <td>1.337</td>\n",
              "      <td>1803.987</td>\n",
              "      <td>NaN</td>\n",
              "      <td>597.029</td>\n",
              "      <td>9.59</td>\n",
              "      <td>NaN</td>\n",
              "      <td>NaN</td>\n",
              "      <td>37.746</td>\n",
              "      <td>0.5</td>\n",
              "      <td>64.83</td>\n",
              "    </tr>\n",
              "    <tr>\n",
              "      <th>4</th>\n",
              "      <td>AFG</td>\n",
              "      <td>Asia</td>\n",
              "      <td>Afghanistan</td>\n",
              "      <td>2020-01-04</td>\n",
              "      <td>0.0</td>\n",
              "      <td>0.0</td>\n",
              "      <td>0.0</td>\n",
              "      <td>0.0</td>\n",
              "      <td>0.0</td>\n",
              "      <td>0.0</td>\n",
              "      <td>0.0</td>\n",
              "      <td>0.0</td>\n",
              "      <td>NaN</td>\n",
              "      <td>NaN</td>\n",
              "      <td>NaN</td>\n",
              "      <td>NaN</td>\n",
              "      <td>NaN</td>\n",
              "      <td>NaN</td>\n",
              "      <td>NaN</td>\n",
              "      <td>0.0</td>\n",
              "      <td>38928341.0</td>\n",
              "      <td>54.422</td>\n",
              "      <td>18.6</td>\n",
              "      <td>2.581</td>\n",
              "      <td>1.337</td>\n",
              "      <td>1803.987</td>\n",
              "      <td>NaN</td>\n",
              "      <td>597.029</td>\n",
              "      <td>9.59</td>\n",
              "      <td>NaN</td>\n",
              "      <td>NaN</td>\n",
              "      <td>37.746</td>\n",
              "      <td>0.5</td>\n",
              "      <td>64.83</td>\n",
              "    </tr>\n",
              "  </tbody>\n",
              "</table>\n",
              "</div>"
            ],
            "text/plain": [
              "  iso_code continent  ... hospital_beds_per_thousand life_expectancy\n",
              "0      AFG      Asia  ...                        0.5           64.83\n",
              "1      AFG      Asia  ...                        0.5           64.83\n",
              "2      AFG      Asia  ...                        0.5           64.83\n",
              "3      AFG      Asia  ...                        0.5           64.83\n",
              "4      AFG      Asia  ...                        0.5           64.83\n",
              "\n",
              "[5 rows x 34 columns]"
            ]
          },
          "metadata": {
            "tags": []
          },
          "execution_count": 3
        }
      ]
    },
    {
      "cell_type": "markdown",
      "metadata": {
        "id": "K0meph7NE6LW",
        "colab_type": "text"
      },
      "source": [
        "Verificar o tamanho total (entradas e variáveis) do DataFrame."
      ]
    },
    {
      "cell_type": "code",
      "metadata": {
        "id": "Q0rlWw2y-DKk",
        "colab_type": "code",
        "colab": {
          "base_uri": "https://localhost:8080/",
          "height": 51
        },
        "outputId": "73d011a2-b54c-4be0-d718-93c768a38d64"
      },
      "source": [
        "print(\"Quantidade de entradas: %s\" % (df.shape[0]))\n",
        "print(\"Quantidade de variáveis: %s\" % (df.shape[1]))"
      ],
      "execution_count": 4,
      "outputs": [
        {
          "output_type": "stream",
          "text": [
            "Quantidade de entradas: 26329\n",
            "Quantidade de variáveis: 34\n"
          ],
          "name": "stdout"
        }
      ]
    },
    {
      "cell_type": "markdown",
      "metadata": {
        "id": "3OeMiscRHBXJ",
        "colab_type": "text"
      },
      "source": [
        "Verificar os tipos das variáveis."
      ]
    },
    {
      "cell_type": "code",
      "metadata": {
        "id": "JCj6ePPQFKgU",
        "colab_type": "code",
        "colab": {
          "base_uri": "https://localhost:8080/",
          "height": 612
        },
        "outputId": "c092a484-3b24-4d72-a824-d8fc6484978e"
      },
      "source": [
        "df.dtypes"
      ],
      "execution_count": 5,
      "outputs": [
        {
          "output_type": "execute_result",
          "data": {
            "text/plain": [
              "iso_code                            object\n",
              "continent                           object\n",
              "location                            object\n",
              "date                                object\n",
              "total_cases                        float64\n",
              "new_cases                          float64\n",
              "total_deaths                       float64\n",
              "new_deaths                         float64\n",
              "total_cases_per_million            float64\n",
              "new_cases_per_million              float64\n",
              "total_deaths_per_million           float64\n",
              "new_deaths_per_million             float64\n",
              "total_tests                        float64\n",
              "new_tests                          float64\n",
              "total_tests_per_thousand           float64\n",
              "new_tests_per_thousand             float64\n",
              "new_tests_smoothed                 float64\n",
              "new_tests_smoothed_per_thousand    float64\n",
              "tests_units                         object\n",
              "stringency_index                   float64\n",
              "population                         float64\n",
              "population_density                 float64\n",
              "median_age                         float64\n",
              "aged_65_older                      float64\n",
              "aged_70_older                      float64\n",
              "gdp_per_capita                     float64\n",
              "extreme_poverty                    float64\n",
              "cvd_death_rate                     float64\n",
              "diabetes_prevalence                float64\n",
              "female_smokers                     float64\n",
              "male_smokers                       float64\n",
              "handwashing_facilities             float64\n",
              "hospital_beds_per_thousand         float64\n",
              "life_expectancy                    float64\n",
              "dtype: object"
            ]
          },
          "metadata": {
            "tags": []
          },
          "execution_count": 5
        }
      ]
    },
    {
      "cell_type": "markdown",
      "metadata": {
        "id": "1N7Ll1uLHSrK",
        "colab_type": "text"
      },
      "source": [
        "Checando as variáveis, notamos que a coluna ***date*** lista os dados como object. Para facilitar nossa análise, vamos transforma-la em valores datetime(datas XXXX-XX-XX)"
      ]
    },
    {
      "cell_type": "code",
      "metadata": {
        "id": "HnO54EI7G-3o",
        "colab_type": "code",
        "colab": {}
      },
      "source": [
        "df.date = pd.to_datetime(df.date)"
      ],
      "execution_count": 6,
      "outputs": []
    },
    {
      "cell_type": "markdown",
      "metadata": {
        "id": "BWd4wXlzImx-",
        "colab_type": "text"
      },
      "source": [
        "Identificar a porcentagem de valores ausentes dentro do DataFrame, do maior para o menor."
      ]
    },
    {
      "cell_type": "code",
      "metadata": {
        "id": "1-ILAKtWITmc",
        "colab_type": "code",
        "colab": {
          "base_uri": "https://localhost:8080/",
          "height": 612
        },
        "outputId": "fa0e4438-7dbc-4f0c-9ab4-dceb7c99a754"
      },
      "source": [
        "(df.isnull().sum() / df.shape[0]).sort_values(ascending=False)"
      ],
      "execution_count": 7,
      "outputs": [
        {
          "output_type": "execute_result",
          "data": {
            "text/plain": [
              "new_tests                          0.740932\n",
              "new_tests_per_thousand             0.740932\n",
              "total_tests_per_thousand           0.715409\n",
              "total_tests                        0.715409\n",
              "new_tests_smoothed_per_thousand    0.692430\n",
              "new_tests_smoothed                 0.692430\n",
              "tests_units                        0.668882\n",
              "handwashing_facilities             0.592920\n",
              "extreme_poverty                    0.402826\n",
              "male_smokers                       0.282768\n",
              "female_smokers                     0.274412\n",
              "stringency_index                   0.194386\n",
              "hospital_beds_per_thousand         0.172471\n",
              "aged_65_older                      0.109043\n",
              "gdp_per_capita                     0.106461\n",
              "aged_70_older                      0.100915\n",
              "median_age                         0.096282\n",
              "cvd_death_rate                     0.095142\n",
              "diabetes_prevalence                0.065897\n",
              "population_density                 0.043412\n",
              "life_expectancy                    0.013863\n",
              "new_deaths_per_million             0.010597\n",
              "total_deaths_per_million           0.010597\n",
              "new_cases_per_million              0.010597\n",
              "total_cases_per_million            0.010597\n",
              "continent                          0.009229\n",
              "new_deaths                         0.008166\n",
              "total_deaths                       0.008166\n",
              "new_cases                          0.008166\n",
              "total_cases                        0.008166\n",
              "population                         0.002431\n",
              "iso_code                           0.002431\n",
              "date                               0.000000\n",
              "location                           0.000000\n",
              "dtype: float64"
            ]
          },
          "metadata": {
            "tags": []
          },
          "execution_count": 7
        }
      ]
    },
    {
      "cell_type": "markdown",
      "metadata": {
        "id": "mFSKAvHYJqK8",
        "colab_type": "text"
      },
      "source": [
        "Nota-se que há muitos valores ausentes nas amostras sobre a testagem do COVID-19  (perto dos 70%). Isso se dá devido a dificuldade de muitos países em testar sua população. Os testes ainda são caros o que restringe bastante o acesso aos países menos desenvolvidos.\n",
        "\n",
        "Apesar disso, a ausência desses dados não afetará a análise deste projeto."
      ]
    },
    {
      "cell_type": "markdown",
      "metadata": {
        "id": "ZDeF91G2LAej",
        "colab_type": "text"
      },
      "source": [
        "## Panorâma Mundial\n",
        "\n",
        "Antes de focar no Brasil, abrangeremos a análise em teor mundial, para fins de comparação da propagação do vírus aqui e lá fora."
      ]
    },
    {
      "cell_type": "markdown",
      "metadata": {
        "id": "8BqLFfWRLxCd",
        "colab_type": "text"
      },
      "source": [
        "### Países com mais casos\n",
        "\n",
        "Apresentar os 5 países com mais casos em todo mundo até a publicação dessa análise (24-06-2020)."
      ]
    },
    {
      "cell_type": "code",
      "metadata": {
        "id": "GapYdmzzz15h",
        "colab_type": "code",
        "colab": {
          "base_uri": "https://localhost:8080/",
          "height": 204
        },
        "outputId": "6b39872a-0001-4017-84aa-a479d309a2b9"
      },
      "source": [
        "# Atribuir slice dos 5 primeiros a uma variável e apresentar o dataframe\n",
        "df_cases = df.loc[df.date == '2020-06-24',\n",
        "                  ['location', 'total_cases']].sort_values(by='total_cases', ascending=False)[1:6].copy()\n",
        "df_cases"
      ],
      "execution_count": 128,
      "outputs": [
        {
          "output_type": "execute_result",
          "data": {
            "text/html": [
              "<div>\n",
              "<style scoped>\n",
              "    .dataframe tbody tr th:only-of-type {\n",
              "        vertical-align: middle;\n",
              "    }\n",
              "\n",
              "    .dataframe tbody tr th {\n",
              "        vertical-align: top;\n",
              "    }\n",
              "\n",
              "    .dataframe thead th {\n",
              "        text-align: right;\n",
              "    }\n",
              "</style>\n",
              "<table border=\"1\" class=\"dataframe\">\n",
              "  <thead>\n",
              "    <tr style=\"text-align: right;\">\n",
              "      <th></th>\n",
              "      <th>location</th>\n",
              "      <th>total_cases</th>\n",
              "    </tr>\n",
              "  </thead>\n",
              "  <tbody>\n",
              "    <tr>\n",
              "      <th>25058</th>\n",
              "      <td>United States</td>\n",
              "      <td>2347022.0</td>\n",
              "    </tr>\n",
              "    <tr>\n",
              "      <th>3570</th>\n",
              "      <td>Brazil</td>\n",
              "      <td>1145906.0</td>\n",
              "    </tr>\n",
              "    <tr>\n",
              "      <th>19886</th>\n",
              "      <td>Russia</td>\n",
              "      <td>599705.0</td>\n",
              "    </tr>\n",
              "    <tr>\n",
              "      <th>11121</th>\n",
              "      <td>India</td>\n",
              "      <td>456183.0</td>\n",
              "    </tr>\n",
              "    <tr>\n",
              "      <th>24879</th>\n",
              "      <td>United Kingdom</td>\n",
              "      <td>306210.0</td>\n",
              "    </tr>\n",
              "  </tbody>\n",
              "</table>\n",
              "</div>"
            ],
            "text/plain": [
              "             location  total_cases\n",
              "25058   United States    2347022.0\n",
              "3570           Brazil    1145906.0\n",
              "19886          Russia     599705.0\n",
              "11121           India     456183.0\n",
              "24879  United Kingdom     306210.0"
            ]
          },
          "metadata": {
            "tags": []
          },
          "execution_count": 128
        }
      ]
    },
    {
      "cell_type": "code",
      "metadata": {
        "id": "lZDYuNli_kcx",
        "colab_type": "code",
        "colab": {
          "base_uri": "https://localhost:8080/",
          "height": 297
        },
        "outputId": "a2555859-86aa-4c14-f7b0-b4a60ec4e050"
      },
      "source": [
        "# Plotar o gráfico\n",
        "sns.set_style('white')\n",
        "fig, ax = plt.subplots(figsize=(6,4))\n",
        "\n",
        "sns.barplot(x='location', y='total_cases', data=df_cases, palette='Blues_r', ax=ax)\n",
        "sns.despine(left=True)\n",
        "ax.set_title('Casos de COVID-19', size=15)\n",
        "ax.set_ylabel('Casos em milhões')\n",
        "ax.set_xlabel(' ')\n",
        "\n",
        "plt.tight_layout()"
      ],
      "execution_count": 8,
      "outputs": [
        {
          "output_type": "display_data",
          "data": {
            "image/png": "[encoded data removed]",
            "text/plain": [
              "<Figure size 432x288 with 1 Axes>"
            ]
          },
          "metadata": {
            "tags": []
          }
        }
      ]
    },
    {
      "cell_type": "markdown",
      "metadata": {
        "id": "qSnmVdgJUnUe",
        "colab_type": "text"
      },
      "source": [
        "### Países com mais óbitos\n",
        "\n",
        "Apresentar os 5 países com mais óbitos em todo mundo até a publicação dessa análise (24-06-2020)."
      ]
    },
    {
      "cell_type": "code",
      "metadata": {
        "id": "e-KFoqka0CcF",
        "colab_type": "code",
        "colab": {
          "base_uri": "https://localhost:8080/",
          "height": 204
        },
        "outputId": "2c8ecfa7-4bc5-44d3-f304-14a5477985cc"
      },
      "source": [
        "# Atribuir slice dos 5 primeiros a uma variável e apresentar o dataframe\n",
        "df_deaths = df.loc[df.date == '2020-06-24',\n",
        "       ['location', 'total_deaths']].sort_values(by='total_deaths', ascending=False)[1:6].copy()\n",
        "df_deaths"
      ],
      "execution_count": 129,
      "outputs": [
        {
          "output_type": "execute_result",
          "data": {
            "text/html": [
              "<div>\n",
              "<style scoped>\n",
              "    .dataframe tbody tr th:only-of-type {\n",
              "        vertical-align: middle;\n",
              "    }\n",
              "\n",
              "    .dataframe tbody tr th {\n",
              "        vertical-align: top;\n",
              "    }\n",
              "\n",
              "    .dataframe thead th {\n",
              "        text-align: right;\n",
              "    }\n",
              "</style>\n",
              "<table border=\"1\" class=\"dataframe\">\n",
              "  <thead>\n",
              "    <tr style=\"text-align: right;\">\n",
              "      <th></th>\n",
              "      <th>location</th>\n",
              "      <th>total_deaths</th>\n",
              "    </tr>\n",
              "  </thead>\n",
              "  <tbody>\n",
              "    <tr>\n",
              "      <th>25058</th>\n",
              "      <td>United States</td>\n",
              "      <td>121228.0</td>\n",
              "    </tr>\n",
              "    <tr>\n",
              "      <th>3570</th>\n",
              "      <td>Brazil</td>\n",
              "      <td>52645.0</td>\n",
              "    </tr>\n",
              "    <tr>\n",
              "      <th>24879</th>\n",
              "      <td>United Kingdom</td>\n",
              "      <td>42927.0</td>\n",
              "    </tr>\n",
              "    <tr>\n",
              "      <th>12283</th>\n",
              "      <td>Italy</td>\n",
              "      <td>34675.0</td>\n",
              "    </tr>\n",
              "    <tr>\n",
              "      <th>8597</th>\n",
              "      <td>France</td>\n",
              "      <td>29720.0</td>\n",
              "    </tr>\n",
              "  </tbody>\n",
              "</table>\n",
              "</div>"
            ],
            "text/plain": [
              "             location  total_deaths\n",
              "25058   United States      121228.0\n",
              "3570           Brazil       52645.0\n",
              "24879  United Kingdom       42927.0\n",
              "12283           Italy       34675.0\n",
              "8597           France       29720.0"
            ]
          },
          "metadata": {
            "tags": []
          },
          "execution_count": 129
        }
      ]
    },
    {
      "cell_type": "code",
      "metadata": {
        "id": "Dq1GWxZQBkxX",
        "colab_type": "code",
        "colab": {
          "base_uri": "https://localhost:8080/",
          "height": 297
        },
        "outputId": "0144131f-4afd-4283-8eea-1fa941bc5769"
      },
      "source": [
        "# Plotar o gráfico\n",
        "fig, ax = plt.subplots(figsize=(6,4))\n",
        "sns.set_style('white')\n",
        "\n",
        "sns.barplot(x='location', y='total_deaths', data=df_deaths, palette=(\"Reds_r\"), ax=ax)\n",
        "sns.despine(left=True)\n",
        "ax.set_title('Óbitos por COVID-19', size=15)\n",
        "ax.set_ylabel('Óbitos em milhares')\n",
        "ax.set_xlabel(' ')\n",
        "\n",
        "\n",
        "plt.tight_layout()"
      ],
      "execution_count": 9,
      "outputs": [
        {
          "output_type": "display_data",
          "data": {
            "image/png": "[encoded data removed]",
            "text/plain": [
              "<Figure size 432x288 with 1 Axes>"
            ]
          },
          "metadata": {
            "tags": []
          }
        }
      ]
    },
    {
      "cell_type": "markdown",
      "metadata": {
        "id": "jZNP7dd8XuS1",
        "colab_type": "text"
      },
      "source": [
        "Abaixo, a curva de crescimento dos casos fatais no mundo. A escala no eixo x é contada em dias.\n",
        "\n",
        "Apesar de leve achatamento entre os dias 100 e 150 (3º e 5º mês da pandemia), a curva mantem-se numa crescente até os os dias atuais"
      ]
    },
    {
      "cell_type": "code",
      "metadata": {
        "id": "G9aC3M-iVWT-",
        "colab_type": "code",
        "colab": {
          "base_uri": "https://localhost:8080/",
          "height": 265
        },
        "outputId": "21fe2ab4-ecf6-4cbb-a492-cbc8cdc27fe7"
      },
      "source": [
        "sns.set_style('whitegrid')\n",
        "df.loc[df.location == 'World', 'total_deaths'].reset_index(drop=True).plot(color='r');"
      ],
      "execution_count": 74,
      "outputs": [
        {
          "output_type": "display_data",
          "data": {
            "image/png": "[encoded data removed]",
            "text/plain": [
              "<Figure size 432x288 with 1 Axes>"
            ]
          },
          "metadata": {
            "tags": []
          }
        }
      ]
    },
    {
      "cell_type": "markdown",
      "metadata": {
        "id": "2EAtJatwvCqG",
        "colab_type": "text"
      },
      "source": [
        "## Análise Exploratória do Brasil\n",
        "\n",
        "Agora iremos analisar o panorâma brasileiro frente ao avanço do novo coronavírus."
      ]
    },
    {
      "cell_type": "code",
      "metadata": {
        "id": "cK9BLFGTvR4n",
        "colab_type": "code",
        "colab": {}
      },
      "source": [
        "# Atribuir os dados do Brasil a uma nova variável\n",
        "df_br = df.loc[df.location == 'Brazil'].copy()"
      ],
      "execution_count": 11,
      "outputs": []
    },
    {
      "cell_type": "code",
      "metadata": {
        "id": "H-6FzMmNxsMa",
        "colab_type": "code",
        "colab": {
          "base_uri": "https://localhost:8080/",
          "height": 117
        },
        "outputId": "83e66e07-f85a-4132-a147-df71dbb38965"
      },
      "source": [
        "# Localizar quando foi registrado o primeiro caso\n",
        "df_br.loc[df_br.total_cases != 0.0].sort_values(by='total_cases')[:1]"
      ],
      "execution_count": 12,
      "outputs": [
        {
          "output_type": "execute_result",
          "data": {
            "text/html": [
              "<div>\n",
              "<style scoped>\n",
              "    .dataframe tbody tr th:only-of-type {\n",
              "        vertical-align: middle;\n",
              "    }\n",
              "\n",
              "    .dataframe tbody tr th {\n",
              "        vertical-align: top;\n",
              "    }\n",
              "\n",
              "    .dataframe thead th {\n",
              "        text-align: right;\n",
              "    }\n",
              "</style>\n",
              "<table border=\"1\" class=\"dataframe\">\n",
              "  <thead>\n",
              "    <tr style=\"text-align: right;\">\n",
              "      <th></th>\n",
              "      <th>iso_code</th>\n",
              "      <th>continent</th>\n",
              "      <th>location</th>\n",
              "      <th>date</th>\n",
              "      <th>total_cases</th>\n",
              "      <th>new_cases</th>\n",
              "      <th>total_deaths</th>\n",
              "      <th>new_deaths</th>\n",
              "      <th>total_cases_per_million</th>\n",
              "      <th>new_cases_per_million</th>\n",
              "      <th>total_deaths_per_million</th>\n",
              "      <th>new_deaths_per_million</th>\n",
              "      <th>total_tests</th>\n",
              "      <th>new_tests</th>\n",
              "      <th>total_tests_per_thousand</th>\n",
              "      <th>new_tests_per_thousand</th>\n",
              "      <th>new_tests_smoothed</th>\n",
              "      <th>new_tests_smoothed_per_thousand</th>\n",
              "      <th>tests_units</th>\n",
              "      <th>stringency_index</th>\n",
              "      <th>population</th>\n",
              "      <th>population_density</th>\n",
              "      <th>median_age</th>\n",
              "      <th>aged_65_older</th>\n",
              "      <th>aged_70_older</th>\n",
              "      <th>gdp_per_capita</th>\n",
              "      <th>extreme_poverty</th>\n",
              "      <th>cvd_death_rate</th>\n",
              "      <th>diabetes_prevalence</th>\n",
              "      <th>female_smokers</th>\n",
              "      <th>male_smokers</th>\n",
              "      <th>handwashing_facilities</th>\n",
              "      <th>hospital_beds_per_thousand</th>\n",
              "      <th>life_expectancy</th>\n",
              "    </tr>\n",
              "  </thead>\n",
              "  <tbody>\n",
              "    <tr>\n",
              "      <th>3451</th>\n",
              "      <td>BRA</td>\n",
              "      <td>South America</td>\n",
              "      <td>Brazil</td>\n",
              "      <td>2020-02-26</td>\n",
              "      <td>1.0</td>\n",
              "      <td>1.0</td>\n",
              "      <td>0.0</td>\n",
              "      <td>0.0</td>\n",
              "      <td>0.005</td>\n",
              "      <td>0.005</td>\n",
              "      <td>0.0</td>\n",
              "      <td>0.0</td>\n",
              "      <td>NaN</td>\n",
              "      <td>NaN</td>\n",
              "      <td>NaN</td>\n",
              "      <td>NaN</td>\n",
              "      <td>NaN</td>\n",
              "      <td>NaN</td>\n",
              "      <td>NaN</td>\n",
              "      <td>5.56</td>\n",
              "      <td>212559409.0</td>\n",
              "      <td>25.04</td>\n",
              "      <td>33.5</td>\n",
              "      <td>8.552</td>\n",
              "      <td>5.06</td>\n",
              "      <td>14103.452</td>\n",
              "      <td>3.4</td>\n",
              "      <td>177.961</td>\n",
              "      <td>8.11</td>\n",
              "      <td>10.1</td>\n",
              "      <td>17.9</td>\n",
              "      <td>NaN</td>\n",
              "      <td>2.2</td>\n",
              "      <td>75.88</td>\n",
              "    </tr>\n",
              "  </tbody>\n",
              "</table>\n",
              "</div>"
            ],
            "text/plain": [
              "     iso_code      continent  ... hospital_beds_per_thousand life_expectancy\n",
              "3451      BRA  South America  ...                        2.2           75.88\n",
              "\n",
              "[1 rows x 34 columns]"
            ]
          },
          "metadata": {
            "tags": []
          },
          "execution_count": 12
        }
      ]
    },
    {
      "cell_type": "markdown",
      "metadata": {
        "id": "fZadO871RpOV",
        "colab_type": "text"
      },
      "source": [
        "Acima identificamos que o primeiro caso no Brasil foi registrado em 26 de fevereiro de 2020.\n",
        "O chamado [Paciente 1](https://www.sanarsaude.com/blog/confirmado-primeiro-caso-de-coronavirus-na-america-latina?_ga=2.29938488.641205124.1593186148-1563986287.1593186148), um um homem de 61 anos, que voltou de uma viagem a Itália e mora na cidade de São Paulo. \n",
        "\n",
        "Foi também o primeiro caso de COVID-19 confirmado na América Latina."
      ]
    },
    {
      "cell_type": "code",
      "metadata": {
        "id": "VmgLPi8yvjnY",
        "colab_type": "code",
        "colab": {
          "base_uri": "https://localhost:8080/",
          "height": 117
        },
        "outputId": "56068412-23ae-44d2-ec1c-5b00ee644e83"
      },
      "source": [
        "# Localizar quando foi resgistrado o primeiro óbito\n",
        "df_br.loc[df_br.total_deaths != 0.0].sort_values(by='total_deaths')[:1]"
      ],
      "execution_count": 13,
      "outputs": [
        {
          "output_type": "execute_result",
          "data": {
            "text/html": [
              "<div>\n",
              "<style scoped>\n",
              "    .dataframe tbody tr th:only-of-type {\n",
              "        vertical-align: middle;\n",
              "    }\n",
              "\n",
              "    .dataframe tbody tr th {\n",
              "        vertical-align: top;\n",
              "    }\n",
              "\n",
              "    .dataframe thead th {\n",
              "        text-align: right;\n",
              "    }\n",
              "</style>\n",
              "<table border=\"1\" class=\"dataframe\">\n",
              "  <thead>\n",
              "    <tr style=\"text-align: right;\">\n",
              "      <th></th>\n",
              "      <th>iso_code</th>\n",
              "      <th>continent</th>\n",
              "      <th>location</th>\n",
              "      <th>date</th>\n",
              "      <th>total_cases</th>\n",
              "      <th>new_cases</th>\n",
              "      <th>total_deaths</th>\n",
              "      <th>new_deaths</th>\n",
              "      <th>total_cases_per_million</th>\n",
              "      <th>new_cases_per_million</th>\n",
              "      <th>total_deaths_per_million</th>\n",
              "      <th>new_deaths_per_million</th>\n",
              "      <th>total_tests</th>\n",
              "      <th>new_tests</th>\n",
              "      <th>total_tests_per_thousand</th>\n",
              "      <th>new_tests_per_thousand</th>\n",
              "      <th>new_tests_smoothed</th>\n",
              "      <th>new_tests_smoothed_per_thousand</th>\n",
              "      <th>tests_units</th>\n",
              "      <th>stringency_index</th>\n",
              "      <th>population</th>\n",
              "      <th>population_density</th>\n",
              "      <th>median_age</th>\n",
              "      <th>aged_65_older</th>\n",
              "      <th>aged_70_older</th>\n",
              "      <th>gdp_per_capita</th>\n",
              "      <th>extreme_poverty</th>\n",
              "      <th>cvd_death_rate</th>\n",
              "      <th>diabetes_prevalence</th>\n",
              "      <th>female_smokers</th>\n",
              "      <th>male_smokers</th>\n",
              "      <th>handwashing_facilities</th>\n",
              "      <th>hospital_beds_per_thousand</th>\n",
              "      <th>life_expectancy</th>\n",
              "    </tr>\n",
              "  </thead>\n",
              "  <tbody>\n",
              "    <tr>\n",
              "      <th>3472</th>\n",
              "      <td>BRA</td>\n",
              "      <td>South America</td>\n",
              "      <td>Brazil</td>\n",
              "      <td>2020-03-18</td>\n",
              "      <td>291.0</td>\n",
              "      <td>57.0</td>\n",
              "      <td>1.0</td>\n",
              "      <td>1.0</td>\n",
              "      <td>1.369</td>\n",
              "      <td>0.268</td>\n",
              "      <td>0.005</td>\n",
              "      <td>0.005</td>\n",
              "      <td>NaN</td>\n",
              "      <td>NaN</td>\n",
              "      <td>NaN</td>\n",
              "      <td>NaN</td>\n",
              "      <td>NaN</td>\n",
              "      <td>NaN</td>\n",
              "      <td>NaN</td>\n",
              "      <td>60.65</td>\n",
              "      <td>212559409.0</td>\n",
              "      <td>25.04</td>\n",
              "      <td>33.5</td>\n",
              "      <td>8.552</td>\n",
              "      <td>5.06</td>\n",
              "      <td>14103.452</td>\n",
              "      <td>3.4</td>\n",
              "      <td>177.961</td>\n",
              "      <td>8.11</td>\n",
              "      <td>10.1</td>\n",
              "      <td>17.9</td>\n",
              "      <td>NaN</td>\n",
              "      <td>2.2</td>\n",
              "      <td>75.88</td>\n",
              "    </tr>\n",
              "  </tbody>\n",
              "</table>\n",
              "</div>"
            ],
            "text/plain": [
              "     iso_code      continent  ... hospital_beds_per_thousand life_expectancy\n",
              "3472      BRA  South America  ...                        2.2           75.88\n",
              "\n",
              "[1 rows x 34 columns]"
            ]
          },
          "metadata": {
            "tags": []
          },
          "execution_count": 13
        }
      ]
    },
    {
      "cell_type": "markdown",
      "metadata": {
        "id": "GPaU5bfwR4nH",
        "colab_type": "text"
      },
      "source": [
        "E o primeiro registro de óbito aconteceu em 18 de março de 2020.\n",
        "\n",
        "* **Observação:** [Notícia](https://g1.globo.com/bemestar/coronavirus/noticia/2020/04/02/ministerio-da-saude-diz-que-primeiro-caso-de-coronavirus-no-brasil-foi-identificado-no-fim-de-janeiro.ghtml) mais recentes destaca que a primeira morte, na verdade, ocorreu em 23 de janeiro, em Minas Gerais. De acordo com o Ministério da Saúde, a descoberta é resultado de uma \"investigação retrospectiva\" dos pacientes internados com quadros de síndrome respiratória aguda grave."
      ]
    },
    {
      "cell_type": "markdown",
      "metadata": {
        "id": "JAolpusqXQrj",
        "colab_type": "text"
      },
      "source": [
        "### Curva de crescimento da doença\n",
        "\n",
        "Neste gráfico apresentaremos a comparação da curva de crescimento de óbitos no Brasil e no mundo, desde o primeiro caso até o mais recente (24-06-2020).\n",
        "* A escala no eixo x encontra-se em dias.\n",
        "* Mundo linha na cor laranja\n",
        "* Brasil linha na cor azul"
      ]
    },
    {
      "cell_type": "code",
      "metadata": {
        "id": "YUAmb7KAwM6z",
        "colab_type": "code",
        "colab": {
          "base_uri": "https://localhost:8080/",
          "height": 265
        },
        "outputId": "197f5358-290d-480c-fed5-c4700078f226"
      },
      "source": [
        "sns.set_style('whitegrid')\n",
        "df.loc[df.location == 'Brazil', 'total_deaths'].reset_index(drop=True).plot();\n",
        "df.loc[df.location == 'World', 'total_deaths'].reset_index(drop=True).plot();"
      ],
      "execution_count": 29,
      "outputs": [
        {
          "output_type": "display_data",
          "data": {
            "image/png": "[encoded data removed]",
            "text/plain": [
              "<Figure size 432x288 with 1 Axes>"
            ]
          },
          "metadata": {
            "tags": []
          }
        }
      ]
    },
    {
      "cell_type": "markdown",
      "metadata": {
        "id": "ZUnFolMk_DiF",
        "colab_type": "text"
      },
      "source": [
        "### Gráfico de total de casos e óbitos"
      ]
    },
    {
      "cell_type": "code",
      "metadata": {
        "id": "zfk3c2wV-dhN",
        "colab_type": "code",
        "colab": {}
      },
      "source": [
        "# Atribuir df contando a partir do primeiro caso a uma nova variavel\n",
        "\n",
        "df_brd = df_br.loc[df_br.total_deaths != 0.0].sort_values(by='total_deaths').reset_index(drop=True)\n",
        "df_brc = df_br.loc[df_br.total_cases != 0.0].sort_values(by='total_cases').reset_index(drop=True)"
      ],
      "execution_count": 31,
      "outputs": []
    },
    {
      "cell_type": "code",
      "metadata": {
        "id": "YhGlTYQI0N3r",
        "colab_type": "code",
        "colab": {
          "base_uri": "https://localhost:8080/",
          "height": 499
        },
        "outputId": "94df208a-5e66-40e8-a17f-aa04f2190541"
      },
      "source": [
        "# Plotar o gráfico\n",
        "sns.set_style('whitegrid')\n",
        "\n",
        "fig, ax = plt.subplots(figsize=(10,8))\n",
        "\n",
        "sns.lineplot('date', 'total_cases', data=df_brc)\n",
        "sns.lineplot('date', 'total_deaths', data=df_brd, color='r')\n",
        "\n",
        "ax.set_title('Casos x Óbitos no Brasil', size=15)\n",
        "ax.set_xlabel(' ')\n",
        "ax.set_ylabel('Casos em milhões')\n",
        "ax.legend(labels=('Casos', 'Óbitos'))\n",
        "sns.despine()\n",
        "\n",
        "fig.autofmt_xdate()\n",
        "fig.show()\n"
      ],
      "execution_count": 32,
      "outputs": [
        {
          "output_type": "display_data",
          "data": {
            "image/png": "[encoded data removed]",
            "text/plain": [
              "<Figure size 720x576 with 1 Axes>"
            ]
          },
          "metadata": {
            "tags": []
          }
        }
      ]
    },
    {
      "cell_type": "markdown",
      "metadata": {
        "id": "ikwbPB_xkdpc",
        "colab_type": "text"
      },
      "source": [
        "Podemos observar por este gráfico que apesar da quantidade de casos estar numa crescente acentuada, por enquanto os caos fatais, apesar de também aumentarem, não acompanham na mesma proporção a quantidade de novos casos."
      ]
    },
    {
      "cell_type": "markdown",
      "metadata": {
        "id": "o5UtDMow_hMA",
        "colab_type": "text"
      },
      "source": [
        "### Porcentagem de casos e óbitos brasileiros perante o mundo\n"
      ]
    },
    {
      "cell_type": "code",
      "metadata": {
        "id": "2rutD-Px7Zca",
        "colab_type": "code",
        "colab": {
          "base_uri": "https://localhost:8080/",
          "height": 80
        },
        "outputId": "e1383c9d-8fa4-4bd0-ded5-ad8780a95cff"
      },
      "source": [
        "# Apresentar quantidade de óbitos e total de casos no Brasil\n",
        "df_br.loc[df_br.date == '2020-06-24', ['location', 'total_deaths', 'total_cases']]      "
      ],
      "execution_count": 66,
      "outputs": [
        {
          "output_type": "execute_result",
          "data": {
            "text/html": [
              "<div>\n",
              "<style scoped>\n",
              "    .dataframe tbody tr th:only-of-type {\n",
              "        vertical-align: middle;\n",
              "    }\n",
              "\n",
              "    .dataframe tbody tr th {\n",
              "        vertical-align: top;\n",
              "    }\n",
              "\n",
              "    .dataframe thead th {\n",
              "        text-align: right;\n",
              "    }\n",
              "</style>\n",
              "<table border=\"1\" class=\"dataframe\">\n",
              "  <thead>\n",
              "    <tr style=\"text-align: right;\">\n",
              "      <th></th>\n",
              "      <th>location</th>\n",
              "      <th>total_deaths</th>\n",
              "      <th>total_cases</th>\n",
              "    </tr>\n",
              "  </thead>\n",
              "  <tbody>\n",
              "    <tr>\n",
              "      <th>3570</th>\n",
              "      <td>Brazil</td>\n",
              "      <td>52645.0</td>\n",
              "      <td>1145906.0</td>\n",
              "    </tr>\n",
              "  </tbody>\n",
              "</table>\n",
              "</div>"
            ],
            "text/plain": [
              "     location  total_deaths  total_cases\n",
              "3570   Brazil       52645.0    1145906.0"
            ]
          },
          "metadata": {
            "tags": []
          },
          "execution_count": 66
        }
      ]
    },
    {
      "cell_type": "code",
      "metadata": {
        "id": "flZ6B3zt_uKm",
        "colab_type": "code",
        "colab": {
          "base_uri": "https://localhost:8080/",
          "height": 80
        },
        "outputId": "a956ec25-48aa-4f6e-b1f3-8e1e91276be1"
      },
      "source": [
        "# Apresentar quantidade de óbitos e total de casos no Mundo\n",
        "df.loc[df.date == '2020-06-24',\n",
        "       ['location', 'total_deaths', \n",
        "        'total_cases']].sort_values(by='total_deaths', ascending=False)[:1]"
      ],
      "execution_count": 127,
      "outputs": [
        {
          "output_type": "execute_result",
          "data": {
            "text/html": [
              "<div>\n",
              "<style scoped>\n",
              "    .dataframe tbody tr th:only-of-type {\n",
              "        vertical-align: middle;\n",
              "    }\n",
              "\n",
              "    .dataframe tbody tr th {\n",
              "        vertical-align: top;\n",
              "    }\n",
              "\n",
              "    .dataframe thead th {\n",
              "        text-align: right;\n",
              "    }\n",
              "</style>\n",
              "<table border=\"1\" class=\"dataframe\">\n",
              "  <thead>\n",
              "    <tr style=\"text-align: right;\">\n",
              "      <th></th>\n",
              "      <th>location</th>\n",
              "      <th>total_deaths</th>\n",
              "      <th>total_cases</th>\n",
              "    </tr>\n",
              "  </thead>\n",
              "  <tbody>\n",
              "    <tr>\n",
              "      <th>26262</th>\n",
              "      <td>World</td>\n",
              "      <td>477271.0</td>\n",
              "      <td>9229383.0</td>\n",
              "    </tr>\n",
              "  </tbody>\n",
              "</table>\n",
              "</div>"
            ],
            "text/plain": [
              "      location  total_deaths  total_cases\n",
              "26262    World      477271.0    9229383.0"
            ]
          },
          "metadata": {
            "tags": []
          },
          "execution_count": 127
        }
      ]
    },
    {
      "cell_type": "markdown",
      "metadata": {
        "id": "9oanlHBsxYRR",
        "colab_type": "text"
      },
      "source": [
        "* O mundo tem hoje a triste marca de 477.271 casos fatais do novo corona vírus. \n",
        "\n",
        "* O Brasil registra 11,03% dessas mortes, contabilizando 52.645 até a data da divulgação dessa análise.\n",
        "\n",
        "* O Brasil registra também 12,41% dos mais de 9 milhões casos em todo o mundo.\n",
        "\n",
        "* A porcentagem de mortes pela quantidade de pessoas que são infectadas no Brasil é de 4,5%\n",
        "\n",
        "* A porcentagem de mortes pela quantidade de pessoas que são infectadas no Mundo é de 5,1%"
      ]
    },
    {
      "cell_type": "markdown",
      "metadata": {
        "id": "I4--s70SZjhv",
        "colab_type": "text"
      },
      "source": [
        "### Comparação Brasil x EUA\n",
        "\n",
        "Aqui plotamos um gráfico que compara os EUA e o Brasil, respectivamente, primeiro e segundo colocados no número de óbitos pelo COVID-19.\n",
        "\n"
      ]
    },
    {
      "cell_type": "code",
      "metadata": {
        "id": "EP2sjXF-Yo4r",
        "colab_type": "code",
        "colab": {
          "base_uri": "https://localhost:8080/",
          "height": 265
        },
        "outputId": "07684589-c440-4ee3-c6a5-d8e4c70c70c1"
      },
      "source": [
        "sns.set_style('whitegrid')\n",
        "df.loc[df.location == 'Brazil', 'total_deaths'].reset_index(drop=True).plot();\n",
        "df.loc[df.location == 'United States', 'total_deaths'].reset_index(drop=True).plot();"
      ],
      "execution_count": 126,
      "outputs": [
        {
          "output_type": "display_data",
          "data": {
            "image/png": "[encoded data removed]",
            "text/plain": [
              "<Figure size 432x288 with 1 Axes>"
            ]
          },
          "metadata": {
            "tags": []
          }
        }
      ]
    },
    {
      "cell_type": "markdown",
      "metadata": {
        "id": "CU_fi_EcabjE",
        "colab_type": "text"
      },
      "source": [
        "Com esse gráfio é possível notar que a curva de crescimento nos EUA está numa tendência de estabilização de pico e no Brasil a curva ainda está numa crecente."
      ]
    },
    {
      "cell_type": "markdown",
      "metadata": {
        "id": "x4YlVK5cvdj7",
        "colab_type": "text"
      },
      "source": [
        "### Comparação Brasil x India\n",
        "\n",
        "Aqui plotamos um gráfico que compara Brasil com a India, um páis emergente como o nosso, mas de população 6 vezes maior. \n",
        "Apesar dessa diferença de habitantes, a India conta hoje com apenas 1/3 do total de mortes do Brasil.\n",
        "\n",
        "* A escala no eixo x encontra-se em dias.\n",
        "* No gráfico, o Brasil é representado pela linha na cor azul e a India é representada pela linha na cor laranja.\n",
        "\n"
      ]
    },
    {
      "cell_type": "code",
      "metadata": {
        "id": "UKDc3kUO4EkJ",
        "colab_type": "code",
        "colab": {
          "base_uri": "https://localhost:8080/",
          "height": 80
        },
        "outputId": "998533d6-a7a8-4248-f5a9-6d2ba30091ca"
      },
      "source": [
        "# Apresentar população da India\n",
        "df.loc[df.location == 'India', ['location','population']].sort_values(by='population')[:1]"
      ],
      "execution_count": 139,
      "outputs": [
        {
          "output_type": "execute_result",
          "data": {
            "text/html": [
              "<div>\n",
              "<style scoped>\n",
              "    .dataframe tbody tr th:only-of-type {\n",
              "        vertical-align: middle;\n",
              "    }\n",
              "\n",
              "    .dataframe tbody tr th {\n",
              "        vertical-align: top;\n",
              "    }\n",
              "\n",
              "    .dataframe thead th {\n",
              "        text-align: right;\n",
              "    }\n",
              "</style>\n",
              "<table border=\"1\" class=\"dataframe\">\n",
              "  <thead>\n",
              "    <tr style=\"text-align: right;\">\n",
              "      <th></th>\n",
              "      <th>location</th>\n",
              "      <th>population</th>\n",
              "    </tr>\n",
              "  </thead>\n",
              "  <tbody>\n",
              "    <tr>\n",
              "      <th>10946</th>\n",
              "      <td>India</td>\n",
              "      <td>1.380004e+09</td>\n",
              "    </tr>\n",
              "  </tbody>\n",
              "</table>\n",
              "</div>"
            ],
            "text/plain": [
              "      location    population\n",
              "10946    India  1.380004e+09"
            ]
          },
          "metadata": {
            "tags": []
          },
          "execution_count": 139
        }
      ]
    },
    {
      "cell_type": "code",
      "metadata": {
        "id": "c-Z_XfI8ulpm",
        "colab_type": "code",
        "colab": {
          "base_uri": "https://localhost:8080/",
          "height": 265
        },
        "outputId": "f9cbe496-3d61-4c63-93b1-a52c0e32da39"
      },
      "source": [
        "# Plotar gráfico comparativos entre total de óbitos, Brasil x India\n",
        "sns.set_style('whitegrid')\n",
        "df.loc[df.location == 'Brazil', 'total_deaths'].reset_index(drop=True).plot();\n",
        "df.loc[df.location == 'India', 'total_deaths'].reset_index(drop=True).plot();"
      ],
      "execution_count": 124,
      "outputs": [
        {
          "output_type": "display_data",
          "data": {
            "image/png": "[encoded data removed]",
            "text/plain": [
              "<Figure size 432x288 with 1 Axes>"
            ]
          },
          "metadata": {
            "tags": []
          }
        }
      ]
    },
    {
      "cell_type": "markdown",
      "metadata": {
        "id": "E0l7GcWOyQMY",
        "colab_type": "text"
      },
      "source": [
        "# Conclusão\n",
        "\n",
        "Este mês de junho o corona vírus completa 4 meses desde o primeiro caso oficialmente registrado em nosso país.\n",
        "Com este estudo conseguimos reunir algumas informações importantes a respeito do avanço do vírus, não só aqui, mas no mundo todo.\n",
        "\n",
        "Em Resumo:\n",
        "* Temos hoje resgistrados 9.229.383 milhões de casos, sendo 1.145.906 aqui no Brasil, cerca de 12% do total\n",
        "* Temos registrados também 477.271 óbitos em virtude do vírus, sendo 52.645 deles no Brasil, cerca de 11% do total.\n",
        "* Os Estados Unidos contam com o maior número de casos, 2.347.022 milhões, e maior número de óbitos 121.228 mil.\n",
        "* O Brasil é o segundo país em número de casos e mortes no mundo todo.\n",
        "* A curva de crescimento nos casos no mundo mantem-se em atenuada ascensão, desde os primeiros 90 dias do primeiro caso registrado, quando foi registrado oficialmente pela OMS como uma pandemia.\n",
        "* Apesar das medidas de término gradual da quarentena no Brasil, pelos dados nota-se que não há indício de retração na curva de casos e óbitos, pelo contrário, é evidente a tendência de crescimento.\n",
        "* O Brasil tem hoje 6 vezes menos habitantes que outro país emergente, a India, mas em contrapartida, possui 3 vezes mais óbitos.\n",
        "* Um dado positivo tirado desta análise é que: a porcentagem de óbitos perante os infectados aqui no Brasil é menor que na contagem mundial: 4,5% contra 5,1%.\n"
      ]
    }
  ]
}